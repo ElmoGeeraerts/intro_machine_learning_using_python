{
 "cells": [
  {
   "cell_type": "markdown",
   "id": "b251afbe",
   "metadata": {},
   "source": [
    "# Tutorial: how to use `vendor_data.py`\n",
    "\n",
    "## Using `vendor_data.py` as a module\n",
    "\n",
    "This interactive notebook shows how to use the class and the different functions in the script `vendor_data.py`.\n",
    "\n",
    "To use the script in this code, we can import the script as a module or run it directly.\n",
    "We'll begin with importing the code as module:"
   ]
  },
  {
   "cell_type": "code",
   "execution_count": 2,
   "id": "b3611132",
   "metadata": {},
   "outputs": [],
   "source": [
    "import sys\n",
    "sys.path.append ('vendor_data.py') #this is the relative path to the script. If the script is not directly next to the notebook, it could be better to copy the full path of the notebook.\n",
    "import vendor_data as vd # 'as vd' is not necessary but makes it shorter."
   ]
  },
  {
   "cell_type": "markdown",
   "id": "fa2cf4f7",
   "metadata": {},
   "source": [
    "### Docstrings\n",
    "The script is completely documented with docstrings in order to ensure that the script is correclty used.\n",
    "You can read these docstrings by calling one of the following functions:"
   ]
  },
  {
   "cell_type": "code",
   "execution_count": 3,
   "id": "ade0148e",
   "metadata": {},
   "outputs": [
    {
     "name": "stdout",
     "output_type": "stream",
     "text": [
      "Help on module vendor_data:\n",
      "\n",
      "NAME\n",
      "    vendor_data - This is a python script to help Translation Project Managers keep a clean overview of the vendors for a particular project by narrowing down the data in the excel.\n",
      "\n",
      "DESCRIPTION\n",
      "    It contains:\n",
      "        - 4 functions: \n",
      "            `ChangeDictionaryValue` to easily change values in a certain dictionary.\n",
      "            `CheckVendorMail` to easily check if an e-mail address is valid.\n",
      "            `CheckWordRate` to check if a word rate falls between EUR 0.01 and EUR 0.15 per word.\n",
      "            `CheckCatTool` to validate the CAT tool provided.\n",
      "        - 1 class, `VendorData` that has 3 class attributes: `CatTools`, the CAT Tools that can be used for the project,\n",
      "            `Keys`, the keys of the dictionary that can be modified, and `Statuses`, the possible statuses a vendor can have.\n",
      "            The class takes 4 positional arguments and 4 optional arguments:\n",
      "                1. `ProjectName` (str): the name of the translation project\n",
      "                2. `SourceLang` (str): the source language, i.e. the language the translator will translate from\n",
      "                3. `TargLang` (str): the target language, i.e. the language the translator will translate into\n",
      "                4. `VendorName` (str): the translator's/vendor's name\n",
      "                5. `VendorMail` (str): the vendor's e-mail address, by default empty\n",
      "                6. `WordRate` (float): the vendor's word rate in EUR/word, by default set to \"None\"\n",
      "                7. `CatTool` (str): the CAT Tool the translator will use, by default set to \"XTM\"\n",
      "                8. `Preferred` (bool): indicates if a vendor is a preferred vendor or not, by default set to \"None\"\n",
      "        - `Argparse` inside `if __name__ == \"__main__\":` statement to receive arguments when the script is run\n",
      "\n",
      "CLASSES\n",
      "    builtins.object\n",
      "        VendorData\n",
      "    \n",
      "    class VendorData(builtins.object)\n",
      "     |  VendorData(ProjectName, SourceLang, TargLang, VendorName, VendorMail='', WordRate=None, CatTool='XTM', Preferred=None)\n",
      "     |  \n",
      "     |  Methods defined here:\n",
      "     |  \n",
      "     |  ChangeTool(self, NewTool)\n",
      "     |      Method\n",
      "     |      \n",
      "     |      Args:\n",
      "     |          NewTool (str): a new tool for a certain vendor\n",
      "     |  \n",
      "     |  ModExcel(self, Key, Index, NewValue)\n",
      "     |      Method to modify existing vendor in excel file\n",
      "     |      \n",
      "     |      Args:\n",
      "     |          Key (str): one of the modifiable keys in VendorData.Keys\n",
      "     |          Index (int): the index of the value that needs to be modified\n",
      "     |          NewValue : the new value of the index, type depends on the key, either str or float\n",
      "     |      \n",
      "     |      Raises:\n",
      "     |          ValueError: raised if the key is not one of the keys in VendorData.Keys\n",
      "     |          ValueError: raised if the Index is not valid for a certain key\n",
      "     |  \n",
      "     |  ReadExcel(self)\n",
      "     |  \n",
      "     |  SetStatus(self, PrefVend)\n",
      "     |      Method\n",
      "     |      \n",
      "     |      Args:\n",
      "     |          PrefVend (bool): new value for Preferred, has an influence on status\n",
      "     |  \n",
      "     |  SetVendorMail(self, NewMail)\n",
      "     |      Method\n",
      "     |      \n",
      "     |      Args:\n",
      "     |          NewMail (str): a new e-mail address for a certain vendor\n",
      "     |  \n",
      "     |  SetWordRate(self, NewRate)\n",
      "     |      Method\n",
      "     |      \n",
      "     |      Args:\n",
      "     |          NewRate (float): a new word rate for a certain vendor\n",
      "     |  \n",
      "     |  ToExcel(self)\n",
      "     |  \n",
      "     |  __init__(self, ProjectName, SourceLang, TargLang, VendorName, VendorMail='', WordRate=None, CatTool='XTM', Preferred=None)\n",
      "     |      Instantiate\n",
      "     |      \n",
      "     |      Class Attributes:\n",
      "     |          CatTools (list) :\n",
      "     |          Keys (list) :\n",
      "     |          Statuses (list) :\n",
      "     |      \n",
      "     |      Args:\n",
      "     |          ProjectName (str): the name of the translation project\n",
      "     |          SourceLang (str): the source language, i.e. the language the translator will translate from\n",
      "     |          TargLang (str): the target language, i.e. the language the translator will translate into\n",
      "     |          VendorName (str): the translator's/vendor's name\n",
      "     |          VendorMail (str, optional): the vendor's e-mail address, by default empty\n",
      "     |          WordRate (float, optional): the vendor's word rate in EUR/word, by default set to \"None\"\n",
      "     |          CatTool (str, optional): the CAT Tool the translator will use, by default set to \"XTM\"\n",
      "     |          Preferred (bool, optional): indicates if a vendor is a preferred vendor or not, by default set to \"None\".\n",
      "     |      \n",
      "     |      Raises:\n",
      "     |          TypeError: ProjectName should be a string\n",
      "     |          TypeError: SourceLang should be a string\n",
      "     |          TypeError: TargLang should be a string\n",
      "     |          TypeError: VendorName should be a string\n",
      "     |  \n",
      "     |  ----------------------------------------------------------------------\n",
      "     |  Data descriptors defined here:\n",
      "     |  \n",
      "     |  __dict__\n",
      "     |      dictionary for instance variables (if defined)\n",
      "     |  \n",
      "     |  __weakref__\n",
      "     |      list of weak references to the object (if defined)\n",
      "     |  \n",
      "     |  ----------------------------------------------------------------------\n",
      "     |  Data and other attributes defined here:\n",
      "     |  \n",
      "     |  CatTools = ['XTM', 'Trados Studio', 'MemoQ', 'Memsource']\n",
      "     |  \n",
      "     |  Keys = ['E-mail', 'CAT Tool', 'Word Rate', 'Status']\n",
      "     |  \n",
      "     |  Statuses = ['Preferred', 'Back-up', 'Potential']\n",
      "\n",
      "FUNCTIONS\n",
      "    ChangeDictionaryValue(Dictionary, Key, Index, NewValue)\n",
      "        ChangeDictionaryValue, change values of a dictionary\n",
      "        \n",
      "        Args:\n",
      "            Dictionary (dict): name of the dictionary that will be read\n",
      "            Key (str): the key for which the value will be changed\n",
      "            Index (int): the index of the value that will be changed\n",
      "            NewValue: new value for the chosen index, type depends on the key\n",
      "    \n",
      "    CheckCatTool(CatTool)\n",
      "        CheckCatTool, validate CatTOol\n",
      "        \n",
      "        Args:\n",
      "            CatTool (str): a CAT Tool\n",
      "        \n",
      "        Raises:\n",
      "            TypeError: if the argument provided is not string, a TypeError is raised\n",
      "            ValueError: the argument provided should be one of the four CAT Tools in the list [\"XTM\", \"Trados Studio\", \"MemoQ\", \"Memsource\"]\n",
      "    \n",
      "    CheckVendorMail(VendorMail)\n",
      "        CheckVendorMail, validate e-mail address\n",
      "        \n",
      "        Args:\n",
      "            VendorMail (str): an e-mail address\n",
      "        \n",
      "        Raises:\n",
      "            TypeError: if the argument provided is not a string, a TypeError is raised\n",
      "            ValueError: if the address provided does not conform with the regex string `regex_mail`, a ValueError is raised\n",
      "    \n",
      "    CheckWordRate(WordRate)\n",
      "        CheckWordRate, validate word rate\n",
      "        \n",
      "        Args:\n",
      "            WordRate (float): a word rate in EUR/word\n",
      "        \n",
      "        Raises:\n",
      "            TypeError:  if the argument provided is not a float, a TypeError is raised\n",
      "            ValueError: the argument provided should not be higher than 0.15\n",
      "            ValueError: the argument provided should not be 0.00\n",
      "\n",
      "FILE\n",
      "    c:\\users\\geera\\onedrive\\documenten\\school\\postgraduaattranslationtechnology\\introductiontopython\\final_assignment1\\vendor_data.py\n",
      "\n",
      "\n"
     ]
    }
   ],
   "source": [
    "help(vd)"
   ]
  },
  {
   "cell_type": "code",
   "execution_count": 4,
   "id": "d6fb22b9",
   "metadata": {},
   "outputs": [],
   "source": [
    "?vd"
   ]
  },
  {
   "cell_type": "code",
   "execution_count": 5,
   "id": "803ee5b0",
   "metadata": {},
   "outputs": [
    {
     "data": {
      "text/plain": [
       "'This is a python script to help Translation Project Managers keep a clean overview of the vendors for a particular project by narrowing down the data in the excel.\\n\\n    It contains:\\n        - 4 functions: \\n            `ChangeDictionaryValue` to easily change values in a certain dictionary.\\n            `CheckVendorMail` to easily check if an e-mail address is valid.\\n            `CheckWordRate` to check if a word rate falls between EUR 0.01 and EUR 0.15 per word.\\n            `CheckCatTool` to validate the CAT tool provided.\\n        - 1 class, `VendorData` that has 3 class attributes: `CatTools`, the CAT Tools that can be used for the project,\\n            `Keys`, the keys of the dictionary that can be modified, and `Statuses`, the possible statuses a vendor can have.\\n            The class takes 4 positional arguments and 4 optional arguments:\\n                1. `ProjectName` (str): the name of the translation project\\n                2. `SourceLang` (str): the source language, i.e. the language the translator will translate from\\n                3. `TargLang` (str): the target language, i.e. the language the translator will translate into\\n                4. `VendorName` (str): the translator\\'s/vendor\\'s name\\n                5. `VendorMail` (str): the vendor\\'s e-mail address, by default empty\\n                6. `WordRate` (float): the vendor\\'s word rate in EUR/word, by default set to \"None\"\\n                7. `CatTool` (str): the CAT Tool the translator will use, by default set to \"XTM\"\\n                8. `Preferred` (bool): indicates if a vendor is a preferred vendor or not, by default set to \"None\"\\n        - `Argparse` inside `if __name__ == \"__main__\":` statement to receive arguments when the script is run\\n    '"
      ]
     },
     "execution_count": 5,
     "metadata": {},
     "output_type": "execute_result"
    }
   ],
   "source": [
    "vd.__doc__"
   ]
  },
  {
   "cell_type": "markdown",
   "id": "b9df49cf",
   "metadata": {},
   "source": [
    "### Instantiating an instance of VendorData\n",
    "Now that we know the different fucntionalities we can instantiate an instance of the class VendorData.\n",
    "To illustrate the code to it's full extent, we'll instantiate a couple of them:"
   ]
  },
  {
   "cell_type": "code",
   "execution_count": 6,
   "id": "4ab17746",
   "metadata": {},
   "outputs": [],
   "source": [
    "VendorNL = vd.VendorData(\"Tutorial\", \"English\", \"Dutch\", \"Elmo Geeraerts\") #An instance with only the positional arguments provided\n",
    "VendorFR = vd.VendorData(\"Tutorial\", \"English\", \"French\", \"Jean Lefèvre\", \"j.lefevre@hotmail.com\", 0.10, \"Trados Studio\", True) #An instance with all the arguments provided\n",
    "VendorES = vd.VendorData(\"Tutorial\", \"English\", \"Spanish\", \"Emilio De La Banda\", WordRate = 0.09, Preferred = False) #An instance with some of the optional arguments"
   ]
  },
  {
   "cell_type": "markdown",
   "id": "4c856f67",
   "metadata": {},
   "source": [
    "We can check the values of the arguments for the three vendors as follows:"
   ]
  },
  {
   "cell_type": "code",
   "execution_count": 7,
   "id": "c6675ef0",
   "metadata": {},
   "outputs": [
    {
     "data": {
      "text/plain": [
       "'Elmo Geeraerts'"
      ]
     },
     "execution_count": 7,
     "metadata": {},
     "output_type": "execute_result"
    }
   ],
   "source": [
    "VendorNL.VendorName"
   ]
  },
  {
   "cell_type": "code",
   "execution_count": 8,
   "id": "23b52971",
   "metadata": {},
   "outputs": [
    {
     "data": {
      "text/plain": [
       "'j.lefevre@hotmail.com'"
      ]
     },
     "execution_count": 8,
     "metadata": {},
     "output_type": "execute_result"
    }
   ],
   "source": [
    "VendorFR.VendorMail"
   ]
  },
  {
   "cell_type": "code",
   "execution_count": 9,
   "id": "69659b86",
   "metadata": {},
   "outputs": [
    {
     "data": {
      "text/plain": [
       "0.09"
      ]
     },
     "execution_count": 9,
     "metadata": {},
     "output_type": "execute_result"
    }
   ],
   "source": [
    "VendorES.WordRate"
   ]
  },
  {
   "cell_type": "markdown",
   "id": "a831785f",
   "metadata": {},
   "source": [
    "Some arguments had default arguments. When we check the e-mail for VendorNL, for which we didn't provide one, we'll see that it does not return anything:"
   ]
  },
  {
   "cell_type": "code",
   "execution_count": 10,
   "id": "cb2ca64c",
   "metadata": {},
   "outputs": [
    {
     "data": {
      "text/plain": [
       "''"
      ]
     },
     "execution_count": 10,
     "metadata": {},
     "output_type": "execute_result"
    }
   ],
   "source": [
    "VendorNL.VendorMail"
   ]
  },
  {
   "cell_type": "markdown",
   "id": "5254d93d",
   "metadata": {},
   "source": [
    "When we check the CAT tool for the Spanish vendor, we'll get \"XTM\". We did not provide any argument, but in the class it is set to default since that is the main CAT tool used in the particular agency. This can be changed in the actual code."
   ]
  },
  {
   "cell_type": "code",
   "execution_count": 11,
   "id": "c7180a19",
   "metadata": {},
   "outputs": [
    {
     "data": {
      "text/plain": [
       "'XTM'"
      ]
     },
     "execution_count": 11,
     "metadata": {},
     "output_type": "execute_result"
    }
   ],
   "source": [
    "VendorES.CatTool"
   ]
  },
  {
   "cell_type": "markdown",
   "id": "fc86e138",
   "metadata": {},
   "source": [
    "The value for the argument Preferred can be True, False or None. This has an influence of the vendor's status.\n",
    "If Preferred is True, the vendor gets the status Preferred. If it is False, the vendor gets the status Back-up. If it is None, the vendor gets the status Potential."
   ]
  },
  {
   "cell_type": "code",
   "execution_count": 12,
   "id": "e26d1539",
   "metadata": {},
   "outputs": [
    {
     "data": {
      "text/plain": [
       "True"
      ]
     },
     "execution_count": 12,
     "metadata": {},
     "output_type": "execute_result"
    }
   ],
   "source": [
    "VendorFR.Preferred"
   ]
  },
  {
   "cell_type": "code",
   "execution_count": 13,
   "id": "935c0a38",
   "metadata": {},
   "outputs": [
    {
     "data": {
      "text/plain": [
       "'Preferred'"
      ]
     },
     "execution_count": 13,
     "metadata": {},
     "output_type": "execute_result"
    }
   ],
   "source": [
    "VendorFR.Status"
   ]
  },
  {
   "cell_type": "code",
   "execution_count": 14,
   "id": "9ebc7f07",
   "metadata": {},
   "outputs": [
    {
     "data": {
      "text/plain": [
       "False"
      ]
     },
     "execution_count": 14,
     "metadata": {},
     "output_type": "execute_result"
    }
   ],
   "source": [
    "VendorES.Preferred"
   ]
  },
  {
   "cell_type": "code",
   "execution_count": 15,
   "id": "1158b1de",
   "metadata": {},
   "outputs": [
    {
     "data": {
      "text/plain": [
       "'Back-up'"
      ]
     },
     "execution_count": 15,
     "metadata": {},
     "output_type": "execute_result"
    }
   ],
   "source": [
    "VendorES.Status"
   ]
  },
  {
   "cell_type": "code",
   "execution_count": 16,
   "id": "ab5e5f54",
   "metadata": {},
   "outputs": [],
   "source": [
    "VendorNL.Preferred #Will not return anything since value is None"
   ]
  },
  {
   "cell_type": "code",
   "execution_count": 17,
   "id": "50cd8967",
   "metadata": {},
   "outputs": [
    {
     "data": {
      "text/plain": [
       "'Potential'"
      ]
     },
     "execution_count": 17,
     "metadata": {},
     "output_type": "execute_result"
    }
   ],
   "source": [
    "VendorNL.Status"
   ]
  },
  {
   "cell_type": "markdown",
   "id": "47936f2c",
   "metadata": {},
   "source": [
    "### Functions\n",
    "The class also contains a couple of functions:\n",
    "- `SetVendorMail` to set an e-mail address for a specific vendor\n",
    "- `SetWordRate` to add a word rate in EUR/word for a specific vendor\n",
    "- `ChangeTool` to change the preferred CAT tool\n",
    "- `SetStatus` to change the vendor's status\n",
    "- `ToExcel` to write the data to an excel file\n",
    "- `ReadExcel` to print the data in the excel file to a dictionary, if the excel file exists\n",
    "- `ModExcel` to modify certain values for a vendor in the excel file, if the excel file exists\n",
    "\n",
    "We did not provide an e-mail for the Spanish vendor so we'll start with that:"
   ]
  },
  {
   "cell_type": "code",
   "execution_count": 18,
   "id": "90cb5c10",
   "metadata": {},
   "outputs": [
    {
     "data": {
      "text/plain": [
       "'e.dlbanda@outlook.com'"
      ]
     },
     "execution_count": 18,
     "metadata": {},
     "output_type": "execute_result"
    }
   ],
   "source": [
    "VendorES.SetVendorMail(\"e.dlbanda@outlook.com\")\n",
    "VendorES.VendorMail"
   ]
  },
  {
   "cell_type": "markdown",
   "id": "f9d73186",
   "metadata": {},
   "source": [
    "We did not set a word rate for the Dutch vendor, so now we can add one:"
   ]
  },
  {
   "cell_type": "code",
   "execution_count": 19,
   "id": "730b35ca",
   "metadata": {},
   "outputs": [
    {
     "data": {
      "text/plain": [
       "0.08"
      ]
     },
     "execution_count": 19,
     "metadata": {},
     "output_type": "execute_result"
    }
   ],
   "source": [
    "VendorNL.SetWordRate(0.08)\n",
    "VendorNL.WordRate"
   ]
  },
  {
   "cell_type": "markdown",
   "id": "006d6aa9",
   "metadata": {},
   "source": [
    "Say, we did not yet know which CAT Tool the Spanish Vendor was going to use, but now we know that they will use Trados Studio. First it was set to 'XTM', we can change this as follows:"
   ]
  },
  {
   "cell_type": "code",
   "execution_count": 20,
   "id": "391e7c5d",
   "metadata": {},
   "outputs": [
    {
     "data": {
      "text/plain": [
       "'Trados Studio'"
      ]
     },
     "execution_count": 20,
     "metadata": {},
     "output_type": "execute_result"
    }
   ],
   "source": [
    "VendorES.ChangeTool(\"Trados Studio\")\n",
    "VendorES.CatTool"
   ]
  },
  {
   "cell_type": "markdown",
   "id": "574ef338",
   "metadata": {},
   "source": [
    "Because we sat the value for preferred to True for the French vendor, they got the status \"Preferred\". If for some reason this changes, we can change the status easily, by changing the value for Preferred to False or None:"
   ]
  },
  {
   "cell_type": "code",
   "execution_count": 21,
   "id": "96819356",
   "metadata": {},
   "outputs": [
    {
     "data": {
      "text/plain": [
       "False"
      ]
     },
     "execution_count": 21,
     "metadata": {},
     "output_type": "execute_result"
    }
   ],
   "source": [
    "VendorFR.SetStatus(False)\n",
    "VendorFR.Preferred"
   ]
  },
  {
   "cell_type": "code",
   "execution_count": 22,
   "id": "e8335217",
   "metadata": {},
   "outputs": [
    {
     "data": {
      "text/plain": [
       "'Back-up'"
      ]
     },
     "execution_count": 22,
     "metadata": {},
     "output_type": "execute_result"
    }
   ],
   "source": [
    "VendorFR.Status"
   ]
  },
  {
   "cell_type": "markdown",
   "id": "0bf8e1d0",
   "metadata": {},
   "source": [
    "We can now write the data for the vendors to an excel file. Since every vendor has the value for the argument `ProjectName` and `SourceLang`, they will be written to the same excel file. We should execute this function for every vendor. Be careful because if you run this function multiple times for the same vendor, it will not overwrite but append and you will have duplicates in the excel file."
   ]
  },
  {
   "cell_type": "code",
   "execution_count": 23,
   "id": "aeafcb32",
   "metadata": {},
   "outputs": [],
   "source": [
    "VendorNL.ToExcel()\n",
    "VendorFR.ToExcel()\n",
    "VendorES.ToExcel()"
   ]
  },
  {
   "cell_type": "markdown",
   "id": "8ec6866a",
   "metadata": {},
   "source": [
    "An excel file named `Tutorial_English.xlsx` should appear in the same folder where you stored this tutorial notebook.\n",
    "We can now read the entire excel file by calling the function ReadExcel for any vendor in the excel file. We'll get the information for every vendor in the excel file, no matter what vendor we pick:"
   ]
  },
  {
   "cell_type": "code",
   "execution_count": 24,
   "id": "37124f32",
   "metadata": {},
   "outputs": [
    {
     "data": {
      "text/plain": [
       "{'Target Language': {0: 'Dutch', 1: 'French', 2: 'Spanish'},\n",
       " 'Vendor': {0: 'Elmo Geeraerts', 1: 'Jean Lefèvre', 2: 'Emilio De La Banda'},\n",
       " 'E-mail': {0: nan, 1: 'j.lefevre@hotmail.com', 2: 'e.dlbanda@outlook.com'},\n",
       " 'CAT Tool': {0: 'XTM', 1: 'Trados Studio', 2: 'Trados Studio'},\n",
       " 'Word Rate': {0: 0.08, 1: 0.1, 2: 0.09},\n",
       " 'Status': {0: 'Potential', 1: 'Back-up', 2: 'Back-up'}}"
      ]
     },
     "execution_count": 24,
     "metadata": {},
     "output_type": "execute_result"
    }
   ],
   "source": [
    "VendorNL.ReadExcel()"
   ]
  },
  {
   "cell_type": "markdown",
   "id": "ac3269a9",
   "metadata": {},
   "source": [
    "If we create another vendor that works on a different project or translates from another source language and call the same function without writing it to an excel file, we'll get an error message saying that a file for the project in the given source language does not exist."
   ]
  },
  {
   "cell_type": "code",
   "execution_count": 25,
   "id": "10dc02d2",
   "metadata": {},
   "outputs": [
    {
     "ename": "ValueError",
     "evalue": "There is no file for Tutorial in German",
     "output_type": "error",
     "traceback": [
      "\u001b[1;31m---------------------------------------------------------------------------\u001b[0m",
      "\u001b[1;31mValueError\u001b[0m                                Traceback (most recent call last)",
      "\u001b[1;32m~\\AppData\\Local\\Temp\\ipykernel_12116\\1804978508.py\u001b[0m in \u001b[0;36m<module>\u001b[1;34m\u001b[0m\n\u001b[0;32m      1\u001b[0m \u001b[0mVendorBG\u001b[0m \u001b[1;33m=\u001b[0m \u001b[0mvd\u001b[0m\u001b[1;33m.\u001b[0m\u001b[0mVendorData\u001b[0m\u001b[1;33m(\u001b[0m\u001b[1;34m\"Tutorial\"\u001b[0m\u001b[1;33m,\u001b[0m \u001b[1;34m\"German\"\u001b[0m\u001b[1;33m,\u001b[0m \u001b[1;34m\"Bulgarian\"\u001b[0m\u001b[1;33m,\u001b[0m \u001b[1;34m\"Bulgarian Jacob\"\u001b[0m\u001b[1;33m)\u001b[0m\u001b[1;33m\u001b[0m\u001b[1;33m\u001b[0m\u001b[0m\n\u001b[1;32m----> 2\u001b[1;33m \u001b[0mVendorBG\u001b[0m\u001b[1;33m.\u001b[0m\u001b[0mReadExcel\u001b[0m\u001b[1;33m(\u001b[0m\u001b[1;33m)\u001b[0m\u001b[1;33m\u001b[0m\u001b[1;33m\u001b[0m\u001b[0m\n\u001b[0m",
      "\u001b[1;32m~\\OneDrive\\Documenten\\School\\PostgraduaatTranslationTechnology\\IntroductionToPython\\Final_Assignment1\\vendor_data.py\u001b[0m in \u001b[0;36mReadExcel\u001b[1;34m(self)\u001b[0m\n\u001b[0;32m    222\u001b[0m             \u001b[1;32mreturn\u001b[0m \u001b[0mVendorDict\u001b[0m \u001b[1;31m#print the Dictionary\u001b[0m\u001b[1;33m\u001b[0m\u001b[1;33m\u001b[0m\u001b[0m\n\u001b[0;32m    223\u001b[0m         \u001b[1;32melse\u001b[0m\u001b[1;33m:\u001b[0m\u001b[1;33m\u001b[0m\u001b[1;33m\u001b[0m\u001b[0m\n\u001b[1;32m--> 224\u001b[1;33m             \u001b[1;32mraise\u001b[0m \u001b[0mValueError\u001b[0m\u001b[1;33m(\u001b[0m\u001b[1;34mf\"There is no file for {self.ProjectName} in {self.SourceLang}\"\u001b[0m\u001b[1;33m)\u001b[0m\u001b[1;33m\u001b[0m\u001b[1;33m\u001b[0m\u001b[0m\n\u001b[0m\u001b[0;32m    225\u001b[0m \u001b[1;33m\u001b[0m\u001b[0m\n\u001b[0;32m    226\u001b[0m     \u001b[1;32mdef\u001b[0m \u001b[0mModExcel\u001b[0m\u001b[1;33m(\u001b[0m\u001b[0mself\u001b[0m\u001b[1;33m,\u001b[0m \u001b[0mKey\u001b[0m\u001b[1;33m,\u001b[0m \u001b[0mIndex\u001b[0m\u001b[1;33m,\u001b[0m \u001b[0mNewValue\u001b[0m\u001b[1;33m)\u001b[0m\u001b[1;33m:\u001b[0m\u001b[1;33m\u001b[0m\u001b[1;33m\u001b[0m\u001b[0m\n",
      "\u001b[1;31mValueError\u001b[0m: There is no file for Tutorial in German"
     ]
    }
   ],
   "source": [
    "VendorBG = vd.VendorData(\"Tutorial\", \"German\", \"Bulgarian\", \"Bulgarian Jacob\")\n",
    "VendorBG.ReadExcel()"
   ]
  },
  {
   "cell_type": "markdown",
   "id": "e0592b3d",
   "metadata": {},
   "source": [
    "We can also modify the excel file by running the `ModExcel` function. Again, it does not matter for which vendor you call this function.\n",
    "This function takes 3 arguments:\n",
    "1. The `Key` which represents the arguments you can change the values for. You can check the modifiable keys by running vd.VendorData.Keys\n",
    "2. The `Index`: if you have run the ReadExcel() function, you have noticed that before every value for a key in the dictionrary there's a number. By picking a number, you can change the value for that index.\n",
    "3. The `NewValue`, the new value for the index in a key.\n",
    "\n",
    "First we'll run `vd.VendorData.Keys` to see the modifiable keys:"
   ]
  },
  {
   "cell_type": "code",
   "execution_count": 26,
   "id": "17292d31",
   "metadata": {},
   "outputs": [
    {
     "data": {
      "text/plain": [
       "['E-mail', 'CAT Tool', 'Word Rate', 'Status']"
      ]
     },
     "execution_count": 26,
     "metadata": {},
     "output_type": "execute_result"
    }
   ],
   "source": [
    "vd.VendorData.Keys"
   ]
  },
  {
   "cell_type": "markdown",
   "id": "52d39227",
   "metadata": {},
   "source": [
    "Now we'll again read the excel file for the project \"Tutorial\" with source language \"English\". Again, it does not matter which vendor you do this for:"
   ]
  },
  {
   "cell_type": "code",
   "execution_count": 27,
   "id": "abf2dc40",
   "metadata": {},
   "outputs": [
    {
     "data": {
      "text/plain": [
       "{'Target Language': {0: 'Dutch', 1: 'French', 2: 'Spanish'},\n",
       " 'Vendor': {0: 'Elmo Geeraerts', 1: 'Jean Lefèvre', 2: 'Emilio De La Banda'},\n",
       " 'E-mail': {0: nan, 1: 'j.lefevre@hotmail.com', 2: 'e.dlbanda@outlook.com'},\n",
       " 'CAT Tool': {0: 'XTM', 1: 'Trados Studio', 2: 'Trados Studio'},\n",
       " 'Word Rate': {0: 0.08, 1: 0.1, 2: 0.09},\n",
       " 'Status': {0: 'Potential', 1: 'Back-up', 2: 'Back-up'}}"
      ]
     },
     "execution_count": 27,
     "metadata": {},
     "output_type": "execute_result"
    }
   ],
   "source": [
    "VendorNL.ReadExcel()"
   ]
  },
  {
   "cell_type": "markdown",
   "id": "1ecca948",
   "metadata": {},
   "source": [
    "Now we can choose for which index in which key we want to change the value for. We can for example change the CAT Tool the Spanish vendor will use like this:"
   ]
  },
  {
   "cell_type": "code",
   "execution_count": 28,
   "id": "52e91ff2",
   "metadata": {},
   "outputs": [],
   "source": [
    "VendorES.ModExcel(\"CAT Tool\", 2, \"MemoQ\")"
   ]
  },
  {
   "cell_type": "markdown",
   "id": "cfec5fae",
   "metadata": {},
   "source": [
    "If you check this by running `.CatTool`, the old value will still be there."
   ]
  },
  {
   "cell_type": "code",
   "execution_count": 29,
   "id": "f4e539d4",
   "metadata": {},
   "outputs": [
    {
     "data": {
      "text/plain": [
       "'Trados Studio'"
      ]
     },
     "execution_count": 29,
     "metadata": {},
     "output_type": "execute_result"
    }
   ],
   "source": [
    "VendorES.CatTool"
   ]
  },
  {
   "cell_type": "markdown",
   "id": "85cc6b7f",
   "metadata": {},
   "source": [
    "However, if we read the excel file again, we'll notice it has changed:"
   ]
  },
  {
   "cell_type": "code",
   "execution_count": 30,
   "id": "072bbb59",
   "metadata": {},
   "outputs": [
    {
     "data": {
      "text/plain": [
       "{'Target Language': {0: 'Dutch', 1: 'French', 2: 'Spanish'},\n",
       " 'Vendor': {0: 'Elmo Geeraerts', 1: 'Jean Lefèvre', 2: 'Emilio De La Banda'},\n",
       " 'E-mail': {0: nan, 1: 'j.lefevre@hotmail.com', 2: 'e.dlbanda@outlook.com'},\n",
       " 'CAT Tool': {0: 'XTM', 1: 'Trados Studio', 2: 'MemoQ'},\n",
       " 'Word Rate': {0: 0.08, 1: 0.1, 2: 0.09},\n",
       " 'Status': {0: 'Potential', 1: 'Back-up', 2: 'Back-up'}}"
      ]
     },
     "execution_count": 30,
     "metadata": {},
     "output_type": "execute_result"
    }
   ],
   "source": [
    "VendorES.ReadExcel()"
   ]
  },
  {
   "cell_type": "markdown",
   "id": "c6e675e6",
   "metadata": {},
   "source": [
    "### Validation\n",
    "\n",
    "This script also uses some functions to validate the user input anytime when user interaction is necessary.\n",
    "That is:\n",
    "- upon instantiating an instance of VendorData\n",
    "- upon changing a value using one of the functions illustrated above\n",
    "- upon modifying the excel file\n",
    "\n",
    "The examples below illustrate what happens when wrong user input is provided. We'll start with the simple TypeErrors.\n",
    "TypeErrors are raised when:\n",
    "- `ProjectName` is not a string\n",
    "- `SourceLang` is not a string\n",
    "- `TargLang` is not a string\n",
    "- `VendorName` is not a string\n",
    "- `VendorMail` is not a string\n",
    "- `WordRate` is not a float\n",
    "- `CatTool` is not a string\n",
    "- `Preferred` is not None or one of the Boolean operators, True or False"
   ]
  },
  {
   "cell_type": "code",
   "execution_count": 31,
   "id": "854ef143",
   "metadata": {},
   "outputs": [
    {
     "ename": "TypeError",
     "evalue": "ProjectName should be a string!",
     "output_type": "error",
     "traceback": [
      "\u001b[1;31m---------------------------------------------------------------------------\u001b[0m",
      "\u001b[1;31mTypeError\u001b[0m                                 Traceback (most recent call last)",
      "\u001b[1;32m~\\AppData\\Local\\Temp\\ipykernel_12116\\3042631035.py\u001b[0m in \u001b[0;36m<module>\u001b[1;34m\u001b[0m\n\u001b[1;32m----> 1\u001b[1;33m \u001b[0mVendorDE\u001b[0m \u001b[1;33m=\u001b[0m \u001b[0mvd\u001b[0m\u001b[1;33m.\u001b[0m\u001b[0mVendorData\u001b[0m\u001b[1;33m(\u001b[0m\u001b[1;36m0.1\u001b[0m\u001b[1;33m,\u001b[0m \u001b[1;34m\"English\"\u001b[0m\u001b[1;33m,\u001b[0m \u001b[1;34m\"German\"\u001b[0m\u001b[1;33m,\u001b[0m \u001b[1;34m\"Thomas Zwiebel\"\u001b[0m\u001b[1;33m)\u001b[0m\u001b[1;33m\u001b[0m\u001b[1;33m\u001b[0m\u001b[0m\n\u001b[0m",
      "\u001b[1;32m~\\OneDrive\\Documenten\\School\\PostgraduaatTranslationTechnology\\IntroductionToPython\\Final_Assignment1\\vendor_data.py\u001b[0m in \u001b[0;36m__init__\u001b[1;34m(self, ProjectName, SourceLang, TargLang, VendorName, VendorMail, WordRate, CatTool, Preferred)\u001b[0m\n\u001b[0;32m    118\u001b[0m         \"\"\"\n\u001b[0;32m    119\u001b[0m         \u001b[1;32mif\u001b[0m \u001b[0mtype\u001b[0m\u001b[1;33m(\u001b[0m\u001b[0mProjectName\u001b[0m\u001b[1;33m)\u001b[0m \u001b[1;33m!=\u001b[0m \u001b[0mstr\u001b[0m\u001b[1;33m:\u001b[0m\u001b[1;33m\u001b[0m\u001b[1;33m\u001b[0m\u001b[0m\n\u001b[1;32m--> 120\u001b[1;33m             \u001b[1;32mraise\u001b[0m \u001b[0mTypeError\u001b[0m\u001b[1;33m(\u001b[0m\u001b[1;34m\"ProjectName should be a string!\"\u001b[0m\u001b[1;33m)\u001b[0m\u001b[1;33m\u001b[0m\u001b[1;33m\u001b[0m\u001b[0m\n\u001b[0m\u001b[0;32m    121\u001b[0m         \u001b[1;32mif\u001b[0m \u001b[0mtype\u001b[0m\u001b[1;33m(\u001b[0m\u001b[0mSourceLang\u001b[0m\u001b[1;33m)\u001b[0m \u001b[1;33m!=\u001b[0m \u001b[0mstr\u001b[0m\u001b[1;33m:\u001b[0m\u001b[1;33m\u001b[0m\u001b[1;33m\u001b[0m\u001b[0m\n\u001b[0;32m    122\u001b[0m             \u001b[1;32mraise\u001b[0m \u001b[0mTypeError\u001b[0m\u001b[1;33m(\u001b[0m\u001b[1;34m\"SourceLang should be a string!\"\u001b[0m\u001b[1;33m)\u001b[0m\u001b[1;33m\u001b[0m\u001b[1;33m\u001b[0m\u001b[0m\n",
      "\u001b[1;31mTypeError\u001b[0m: ProjectName should be a string!"
     ]
    }
   ],
   "source": [
    "VendorDE = vd.VendorData(0.1, \"English\", \"German\", \"Thomas Zwiebel\")"
   ]
  },
  {
   "cell_type": "code",
   "execution_count": 32,
   "id": "cd524417",
   "metadata": {},
   "outputs": [
    {
     "ename": "TypeError",
     "evalue": "SourceLang should be a string!",
     "output_type": "error",
     "traceback": [
      "\u001b[1;31m---------------------------------------------------------------------------\u001b[0m",
      "\u001b[1;31mTypeError\u001b[0m                                 Traceback (most recent call last)",
      "\u001b[1;32m~\\AppData\\Local\\Temp\\ipykernel_12116\\2835384243.py\u001b[0m in \u001b[0;36m<module>\u001b[1;34m\u001b[0m\n\u001b[1;32m----> 1\u001b[1;33m \u001b[0mVendorDE\u001b[0m \u001b[1;33m=\u001b[0m \u001b[0mvd\u001b[0m\u001b[1;33m.\u001b[0m\u001b[0mVendorData\u001b[0m\u001b[1;33m(\u001b[0m\u001b[1;34m\"Tutorial\"\u001b[0m\u001b[1;33m,\u001b[0m \u001b[1;36m1\u001b[0m\u001b[1;33m,\u001b[0m \u001b[1;34m\"German\"\u001b[0m\u001b[1;33m,\u001b[0m \u001b[1;34m\"Thomas Zwiebel\"\u001b[0m\u001b[1;33m)\u001b[0m\u001b[1;33m\u001b[0m\u001b[1;33m\u001b[0m\u001b[0m\n\u001b[0m",
      "\u001b[1;32m~\\OneDrive\\Documenten\\School\\PostgraduaatTranslationTechnology\\IntroductionToPython\\Final_Assignment1\\vendor_data.py\u001b[0m in \u001b[0;36m__init__\u001b[1;34m(self, ProjectName, SourceLang, TargLang, VendorName, VendorMail, WordRate, CatTool, Preferred)\u001b[0m\n\u001b[0;32m    120\u001b[0m             \u001b[1;32mraise\u001b[0m \u001b[0mTypeError\u001b[0m\u001b[1;33m(\u001b[0m\u001b[1;34m\"ProjectName should be a string!\"\u001b[0m\u001b[1;33m)\u001b[0m\u001b[1;33m\u001b[0m\u001b[1;33m\u001b[0m\u001b[0m\n\u001b[0;32m    121\u001b[0m         \u001b[1;32mif\u001b[0m \u001b[0mtype\u001b[0m\u001b[1;33m(\u001b[0m\u001b[0mSourceLang\u001b[0m\u001b[1;33m)\u001b[0m \u001b[1;33m!=\u001b[0m \u001b[0mstr\u001b[0m\u001b[1;33m:\u001b[0m\u001b[1;33m\u001b[0m\u001b[1;33m\u001b[0m\u001b[0m\n\u001b[1;32m--> 122\u001b[1;33m             \u001b[1;32mraise\u001b[0m \u001b[0mTypeError\u001b[0m\u001b[1;33m(\u001b[0m\u001b[1;34m\"SourceLang should be a string!\"\u001b[0m\u001b[1;33m)\u001b[0m\u001b[1;33m\u001b[0m\u001b[1;33m\u001b[0m\u001b[0m\n\u001b[0m\u001b[0;32m    123\u001b[0m         \u001b[1;32mif\u001b[0m \u001b[0mtype\u001b[0m\u001b[1;33m(\u001b[0m\u001b[0mTargLang\u001b[0m\u001b[1;33m)\u001b[0m \u001b[1;33m!=\u001b[0m \u001b[0mstr\u001b[0m\u001b[1;33m:\u001b[0m\u001b[1;33m\u001b[0m\u001b[1;33m\u001b[0m\u001b[0m\n\u001b[0;32m    124\u001b[0m             \u001b[1;32mraise\u001b[0m \u001b[0mTypeError\u001b[0m\u001b[1;33m(\u001b[0m\u001b[1;34m\"TargLang should be a string!\"\u001b[0m\u001b[1;33m)\u001b[0m\u001b[1;33m\u001b[0m\u001b[1;33m\u001b[0m\u001b[0m\n",
      "\u001b[1;31mTypeError\u001b[0m: SourceLang should be a string!"
     ]
    }
   ],
   "source": [
    "VendorDE = vd.VendorData(\"Tutorial\", 1, \"German\", \"Thomas Zwiebel\")"
   ]
  },
  {
   "cell_type": "code",
   "execution_count": 33,
   "id": "d6497db2",
   "metadata": {},
   "outputs": [
    {
     "ename": "TypeError",
     "evalue": "TargLang should be a string!",
     "output_type": "error",
     "traceback": [
      "\u001b[1;31m---------------------------------------------------------------------------\u001b[0m",
      "\u001b[1;31mTypeError\u001b[0m                                 Traceback (most recent call last)",
      "\u001b[1;32m~\\AppData\\Local\\Temp\\ipykernel_12116\\2057797999.py\u001b[0m in \u001b[0;36m<module>\u001b[1;34m\u001b[0m\n\u001b[1;32m----> 1\u001b[1;33m \u001b[0mVendorDE\u001b[0m \u001b[1;33m=\u001b[0m \u001b[0mvd\u001b[0m\u001b[1;33m.\u001b[0m\u001b[0mVendorData\u001b[0m\u001b[1;33m(\u001b[0m\u001b[1;34m\"Tutorial\"\u001b[0m\u001b[1;33m,\u001b[0m \u001b[1;34m\"English\"\u001b[0m\u001b[1;33m,\u001b[0m \u001b[1;32mTrue\u001b[0m\u001b[1;33m,\u001b[0m \u001b[1;34m\"Thomas Zwiebel\"\u001b[0m\u001b[1;33m)\u001b[0m\u001b[1;33m\u001b[0m\u001b[1;33m\u001b[0m\u001b[0m\n\u001b[0m",
      "\u001b[1;32m~\\OneDrive\\Documenten\\School\\PostgraduaatTranslationTechnology\\IntroductionToPython\\Final_Assignment1\\vendor_data.py\u001b[0m in \u001b[0;36m__init__\u001b[1;34m(self, ProjectName, SourceLang, TargLang, VendorName, VendorMail, WordRate, CatTool, Preferred)\u001b[0m\n\u001b[0;32m    122\u001b[0m             \u001b[1;32mraise\u001b[0m \u001b[0mTypeError\u001b[0m\u001b[1;33m(\u001b[0m\u001b[1;34m\"SourceLang should be a string!\"\u001b[0m\u001b[1;33m)\u001b[0m\u001b[1;33m\u001b[0m\u001b[1;33m\u001b[0m\u001b[0m\n\u001b[0;32m    123\u001b[0m         \u001b[1;32mif\u001b[0m \u001b[0mtype\u001b[0m\u001b[1;33m(\u001b[0m\u001b[0mTargLang\u001b[0m\u001b[1;33m)\u001b[0m \u001b[1;33m!=\u001b[0m \u001b[0mstr\u001b[0m\u001b[1;33m:\u001b[0m\u001b[1;33m\u001b[0m\u001b[1;33m\u001b[0m\u001b[0m\n\u001b[1;32m--> 124\u001b[1;33m             \u001b[1;32mraise\u001b[0m \u001b[0mTypeError\u001b[0m\u001b[1;33m(\u001b[0m\u001b[1;34m\"TargLang should be a string!\"\u001b[0m\u001b[1;33m)\u001b[0m\u001b[1;33m\u001b[0m\u001b[1;33m\u001b[0m\u001b[0m\n\u001b[0m\u001b[0;32m    125\u001b[0m         \u001b[1;32mif\u001b[0m \u001b[0mtype\u001b[0m\u001b[1;33m(\u001b[0m\u001b[0mVendorName\u001b[0m\u001b[1;33m)\u001b[0m \u001b[1;33m!=\u001b[0m\u001b[0mstr\u001b[0m\u001b[1;33m:\u001b[0m\u001b[1;33m\u001b[0m\u001b[1;33m\u001b[0m\u001b[0m\n\u001b[0;32m    126\u001b[0m             \u001b[1;32mraise\u001b[0m \u001b[0mTypeError\u001b[0m\u001b[1;33m(\u001b[0m\u001b[1;34m\"VendorName should be a string!\"\u001b[0m\u001b[1;33m)\u001b[0m\u001b[1;33m\u001b[0m\u001b[1;33m\u001b[0m\u001b[0m\n",
      "\u001b[1;31mTypeError\u001b[0m: TargLang should be a string!"
     ]
    }
   ],
   "source": [
    "VendorDE = vd.VendorData(\"Tutorial\", \"English\", True, \"Thomas Zwiebel\")"
   ]
  },
  {
   "cell_type": "code",
   "execution_count": 34,
   "id": "8b01bfed",
   "metadata": {},
   "outputs": [
    {
     "ename": "TypeError",
     "evalue": "VendorName should be a string!",
     "output_type": "error",
     "traceback": [
      "\u001b[1;31m---------------------------------------------------------------------------\u001b[0m",
      "\u001b[1;31mTypeError\u001b[0m                                 Traceback (most recent call last)",
      "\u001b[1;32m~\\AppData\\Local\\Temp\\ipykernel_12116\\1683973233.py\u001b[0m in \u001b[0;36m<module>\u001b[1;34m\u001b[0m\n\u001b[1;32m----> 1\u001b[1;33m \u001b[0mVendorDE\u001b[0m \u001b[1;33m=\u001b[0m \u001b[0mvd\u001b[0m\u001b[1;33m.\u001b[0m\u001b[0mVendorData\u001b[0m\u001b[1;33m(\u001b[0m\u001b[1;34m\"Tutorial\"\u001b[0m\u001b[1;33m,\u001b[0m \u001b[1;34m\"English\"\u001b[0m\u001b[1;33m,\u001b[0m \u001b[1;34m\"German\"\u001b[0m\u001b[1;33m,\u001b[0m \u001b[1;32mNone\u001b[0m\u001b[1;33m)\u001b[0m\u001b[1;33m\u001b[0m\u001b[1;33m\u001b[0m\u001b[0m\n\u001b[0m",
      "\u001b[1;32m~\\OneDrive\\Documenten\\School\\PostgraduaatTranslationTechnology\\IntroductionToPython\\Final_Assignment1\\vendor_data.py\u001b[0m in \u001b[0;36m__init__\u001b[1;34m(self, ProjectName, SourceLang, TargLang, VendorName, VendorMail, WordRate, CatTool, Preferred)\u001b[0m\n\u001b[0;32m    124\u001b[0m             \u001b[1;32mraise\u001b[0m \u001b[0mTypeError\u001b[0m\u001b[1;33m(\u001b[0m\u001b[1;34m\"TargLang should be a string!\"\u001b[0m\u001b[1;33m)\u001b[0m\u001b[1;33m\u001b[0m\u001b[1;33m\u001b[0m\u001b[0m\n\u001b[0;32m    125\u001b[0m         \u001b[1;32mif\u001b[0m \u001b[0mtype\u001b[0m\u001b[1;33m(\u001b[0m\u001b[0mVendorName\u001b[0m\u001b[1;33m)\u001b[0m \u001b[1;33m!=\u001b[0m\u001b[0mstr\u001b[0m\u001b[1;33m:\u001b[0m\u001b[1;33m\u001b[0m\u001b[1;33m\u001b[0m\u001b[0m\n\u001b[1;32m--> 126\u001b[1;33m             \u001b[1;32mraise\u001b[0m \u001b[0mTypeError\u001b[0m\u001b[1;33m(\u001b[0m\u001b[1;34m\"VendorName should be a string!\"\u001b[0m\u001b[1;33m)\u001b[0m\u001b[1;33m\u001b[0m\u001b[1;33m\u001b[0m\u001b[0m\n\u001b[0m\u001b[0;32m    127\u001b[0m         \u001b[1;32mif\u001b[0m \u001b[0mVendorMail\u001b[0m\u001b[1;33m:\u001b[0m \u001b[1;31m#validate e-mail address if one is provided\u001b[0m\u001b[1;33m\u001b[0m\u001b[1;33m\u001b[0m\u001b[0m\n\u001b[0;32m    128\u001b[0m             \u001b[0mCheckVendorMail\u001b[0m\u001b[1;33m(\u001b[0m\u001b[0mVendorMail\u001b[0m\u001b[1;33m)\u001b[0m\u001b[1;33m\u001b[0m\u001b[1;33m\u001b[0m\u001b[0m\n",
      "\u001b[1;31mTypeError\u001b[0m: VendorName should be a string!"
     ]
    }
   ],
   "source": [
    "VendorDE = vd.VendorData(\"Tutorial\", \"English\", \"German\", None)"
   ]
  },
  {
   "cell_type": "code",
   "execution_count": 35,
   "id": "20b5cc03",
   "metadata": {},
   "outputs": [
    {
     "ename": "TypeError",
     "evalue": "VendorMail should be a string!",
     "output_type": "error",
     "traceback": [
      "\u001b[1;31m---------------------------------------------------------------------------\u001b[0m",
      "\u001b[1;31mTypeError\u001b[0m                                 Traceback (most recent call last)",
      "\u001b[1;32m~\\AppData\\Local\\Temp\\ipykernel_12116\\2269134755.py\u001b[0m in \u001b[0;36m<module>\u001b[1;34m\u001b[0m\n\u001b[1;32m----> 1\u001b[1;33m \u001b[0mVendorDE\u001b[0m \u001b[1;33m=\u001b[0m \u001b[0mvd\u001b[0m\u001b[1;33m.\u001b[0m\u001b[0mVendorData\u001b[0m\u001b[1;33m(\u001b[0m\u001b[1;34m\"Tutorial\"\u001b[0m\u001b[1;33m,\u001b[0m \u001b[1;34m\"English\"\u001b[0m\u001b[1;33m,\u001b[0m \u001b[1;34m\"German\"\u001b[0m\u001b[1;33m,\u001b[0m \u001b[1;34m\"Thomas Zwiebel\"\u001b[0m\u001b[1;33m,\u001b[0m \u001b[1;36m3\u001b[0m\u001b[1;33m)\u001b[0m\u001b[1;33m\u001b[0m\u001b[1;33m\u001b[0m\u001b[0m\n\u001b[0m",
      "\u001b[1;32m~\\OneDrive\\Documenten\\School\\PostgraduaatTranslationTechnology\\IntroductionToPython\\Final_Assignment1\\vendor_data.py\u001b[0m in \u001b[0;36m__init__\u001b[1;34m(self, ProjectName, SourceLang, TargLang, VendorName, VendorMail, WordRate, CatTool, Preferred)\u001b[0m\n\u001b[0;32m    126\u001b[0m             \u001b[1;32mraise\u001b[0m \u001b[0mTypeError\u001b[0m\u001b[1;33m(\u001b[0m\u001b[1;34m\"VendorName should be a string!\"\u001b[0m\u001b[1;33m)\u001b[0m\u001b[1;33m\u001b[0m\u001b[1;33m\u001b[0m\u001b[0m\n\u001b[0;32m    127\u001b[0m         \u001b[1;32mif\u001b[0m \u001b[0mVendorMail\u001b[0m\u001b[1;33m:\u001b[0m \u001b[1;31m#validate e-mail address if one is provided\u001b[0m\u001b[1;33m\u001b[0m\u001b[1;33m\u001b[0m\u001b[0m\n\u001b[1;32m--> 128\u001b[1;33m             \u001b[0mCheckVendorMail\u001b[0m\u001b[1;33m(\u001b[0m\u001b[0mVendorMail\u001b[0m\u001b[1;33m)\u001b[0m\u001b[1;33m\u001b[0m\u001b[1;33m\u001b[0m\u001b[0m\n\u001b[0m\u001b[0;32m    129\u001b[0m         \u001b[1;32mif\u001b[0m \u001b[0mWordRate\u001b[0m \u001b[1;33m!=\u001b[0m \u001b[1;32mNone\u001b[0m\u001b[1;33m:\u001b[0m \u001b[1;31m#validate word rate if one is provided\u001b[0m\u001b[1;33m\u001b[0m\u001b[1;33m\u001b[0m\u001b[0m\n\u001b[0;32m    130\u001b[0m             \u001b[0mCheckWordRate\u001b[0m\u001b[1;33m(\u001b[0m\u001b[0mWordRate\u001b[0m\u001b[1;33m)\u001b[0m\u001b[1;33m\u001b[0m\u001b[1;33m\u001b[0m\u001b[0m\n",
      "\u001b[1;32m~\\OneDrive\\Documenten\\School\\PostgraduaatTranslationTechnology\\IntroductionToPython\\Final_Assignment1\\vendor_data.py\u001b[0m in \u001b[0;36mCheckVendorMail\u001b[1;34m(VendorMail)\u001b[0m\n\u001b[0;32m     52\u001b[0m     \u001b[0mregex_mail\u001b[0m \u001b[1;33m=\u001b[0m \u001b[1;34m\"^[a-z0-9]+[\\._]?[a-z0-9]+[@]\\w+[.]\\w{2,3}$\"\u001b[0m \u001b[1;31m#regex used to validate email\u001b[0m\u001b[1;33m\u001b[0m\u001b[1;33m\u001b[0m\u001b[0m\n\u001b[0;32m     53\u001b[0m     \u001b[1;32mif\u001b[0m \u001b[0mtype\u001b[0m\u001b[1;33m(\u001b[0m\u001b[0mVendorMail\u001b[0m\u001b[1;33m)\u001b[0m \u001b[1;33m!=\u001b[0m \u001b[0mstr\u001b[0m\u001b[1;33m:\u001b[0m\u001b[1;33m\u001b[0m\u001b[1;33m\u001b[0m\u001b[0m\n\u001b[1;32m---> 54\u001b[1;33m         \u001b[1;32mraise\u001b[0m \u001b[0mTypeError\u001b[0m \u001b[1;33m(\u001b[0m\u001b[1;34m\"VendorMail should be a string!\"\u001b[0m\u001b[1;33m)\u001b[0m\u001b[1;33m\u001b[0m\u001b[1;33m\u001b[0m\u001b[0m\n\u001b[0m\u001b[0;32m     55\u001b[0m     \u001b[1;32mif\u001b[0m \u001b[1;32mnot\u001b[0m\u001b[1;33m(\u001b[0m\u001b[0mre\u001b[0m\u001b[1;33m.\u001b[0m\u001b[0msearch\u001b[0m\u001b[1;33m(\u001b[0m\u001b[0mregex_mail\u001b[0m\u001b[1;33m,\u001b[0m\u001b[0mVendorMail\u001b[0m\u001b[1;33m)\u001b[0m\u001b[1;33m)\u001b[0m\u001b[1;33m:\u001b[0m\u001b[1;33m\u001b[0m\u001b[1;33m\u001b[0m\u001b[0m\n\u001b[0;32m     56\u001b[0m         \u001b[1;32mraise\u001b[0m \u001b[0mValueError\u001b[0m\u001b[1;33m(\u001b[0m\u001b[1;34m\"Please insert a valid email address.\"\u001b[0m\u001b[1;33m)\u001b[0m\u001b[1;33m\u001b[0m\u001b[1;33m\u001b[0m\u001b[0m\n",
      "\u001b[1;31mTypeError\u001b[0m: VendorMail should be a string!"
     ]
    }
   ],
   "source": [
    "VendorDE = vd.VendorData(\"Tutorial\", \"English\", \"German\", \"Thomas Zwiebel\", 3)"
   ]
  },
  {
   "cell_type": "code",
   "execution_count": 36,
   "id": "7c32d39f",
   "metadata": {},
   "outputs": [
    {
     "ename": "TypeError",
     "evalue": "WordRate should be a float!",
     "output_type": "error",
     "traceback": [
      "\u001b[1;31m---------------------------------------------------------------------------\u001b[0m",
      "\u001b[1;31mTypeError\u001b[0m                                 Traceback (most recent call last)",
      "\u001b[1;32m~\\AppData\\Local\\Temp\\ipykernel_12116\\2028391605.py\u001b[0m in \u001b[0;36m<module>\u001b[1;34m\u001b[0m\n\u001b[1;32m----> 1\u001b[1;33m \u001b[0mVendorDE\u001b[0m \u001b[1;33m=\u001b[0m \u001b[0mvd\u001b[0m\u001b[1;33m.\u001b[0m\u001b[0mVendorData\u001b[0m\u001b[1;33m(\u001b[0m\u001b[1;34m\"Tutorial\"\u001b[0m\u001b[1;33m,\u001b[0m \u001b[1;34m\"English\"\u001b[0m\u001b[1;33m,\u001b[0m \u001b[1;34m\"German\"\u001b[0m\u001b[1;33m,\u001b[0m \u001b[1;34m\"Thomas Zwiebel\"\u001b[0m\u001b[1;33m,\u001b[0m \u001b[0mWordRate\u001b[0m \u001b[1;33m=\u001b[0m \u001b[1;34m\"0.15\"\u001b[0m\u001b[1;33m)\u001b[0m\u001b[1;33m\u001b[0m\u001b[1;33m\u001b[0m\u001b[0m\n\u001b[0m",
      "\u001b[1;32m~\\OneDrive\\Documenten\\School\\PostgraduaatTranslationTechnology\\IntroductionToPython\\Final_Assignment1\\vendor_data.py\u001b[0m in \u001b[0;36m__init__\u001b[1;34m(self, ProjectName, SourceLang, TargLang, VendorName, VendorMail, WordRate, CatTool, Preferred)\u001b[0m\n\u001b[0;32m    128\u001b[0m             \u001b[0mCheckVendorMail\u001b[0m\u001b[1;33m(\u001b[0m\u001b[0mVendorMail\u001b[0m\u001b[1;33m)\u001b[0m\u001b[1;33m\u001b[0m\u001b[1;33m\u001b[0m\u001b[0m\n\u001b[0;32m    129\u001b[0m         \u001b[1;32mif\u001b[0m \u001b[0mWordRate\u001b[0m \u001b[1;33m!=\u001b[0m \u001b[1;32mNone\u001b[0m\u001b[1;33m:\u001b[0m \u001b[1;31m#validate word rate if one is provided\u001b[0m\u001b[1;33m\u001b[0m\u001b[1;33m\u001b[0m\u001b[0m\n\u001b[1;32m--> 130\u001b[1;33m             \u001b[0mCheckWordRate\u001b[0m\u001b[1;33m(\u001b[0m\u001b[0mWordRate\u001b[0m\u001b[1;33m)\u001b[0m\u001b[1;33m\u001b[0m\u001b[1;33m\u001b[0m\u001b[0m\n\u001b[0m\u001b[0;32m    131\u001b[0m         \u001b[1;32mif\u001b[0m \u001b[0mCatTool\u001b[0m\u001b[1;33m:\u001b[0m \u001b[1;31m#validate CAT Tool if one is provided\u001b[0m\u001b[1;33m\u001b[0m\u001b[1;33m\u001b[0m\u001b[0m\n\u001b[0;32m    132\u001b[0m             \u001b[0mCheckCatTool\u001b[0m\u001b[1;33m(\u001b[0m\u001b[0mCatTool\u001b[0m\u001b[1;33m)\u001b[0m\u001b[1;33m\u001b[0m\u001b[1;33m\u001b[0m\u001b[0m\n",
      "\u001b[1;32m~\\OneDrive\\Documenten\\School\\PostgraduaatTranslationTechnology\\IntroductionToPython\\Final_Assignment1\\vendor_data.py\u001b[0m in \u001b[0;36mCheckWordRate\u001b[1;34m(WordRate)\u001b[0m\n\u001b[0;32m     67\u001b[0m     \"\"\"\n\u001b[0;32m     68\u001b[0m     \u001b[1;32mif\u001b[0m \u001b[0mtype\u001b[0m\u001b[1;33m(\u001b[0m\u001b[0mWordRate\u001b[0m\u001b[1;33m)\u001b[0m \u001b[1;33m!=\u001b[0m \u001b[0mfloat\u001b[0m\u001b[1;33m:\u001b[0m\u001b[1;33m\u001b[0m\u001b[1;33m\u001b[0m\u001b[0m\n\u001b[1;32m---> 69\u001b[1;33m         \u001b[1;32mraise\u001b[0m \u001b[0mTypeError\u001b[0m\u001b[1;33m(\u001b[0m\u001b[1;34m\"WordRate should be a float!\"\u001b[0m\u001b[1;33m)\u001b[0m\u001b[1;33m\u001b[0m\u001b[1;33m\u001b[0m\u001b[0m\n\u001b[0m\u001b[0;32m     70\u001b[0m     \u001b[1;32mif\u001b[0m \u001b[0mWordRate\u001b[0m \u001b[1;33m>\u001b[0m \u001b[1;36m0.15\u001b[0m\u001b[1;33m:\u001b[0m\u001b[1;33m\u001b[0m\u001b[1;33m\u001b[0m\u001b[0m\n\u001b[0;32m     71\u001b[0m         \u001b[1;32mraise\u001b[0m \u001b[0mValueError\u001b[0m\u001b[1;33m(\u001b[0m\u001b[1;34m\"This vendor is too expensive, pick another one.\"\u001b[0m\u001b[1;33m)\u001b[0m\u001b[1;33m\u001b[0m\u001b[1;33m\u001b[0m\u001b[0m\n",
      "\u001b[1;31mTypeError\u001b[0m: WordRate should be a float!"
     ]
    }
   ],
   "source": [
    "VendorDE = vd.VendorData(\"Tutorial\", \"English\", \"German\", \"Thomas Zwiebel\", WordRate = \"0.15\")"
   ]
  },
  {
   "cell_type": "code",
   "execution_count": 37,
   "id": "32715f64",
   "metadata": {},
   "outputs": [
    {
     "ename": "TypeError",
     "evalue": "Preferred should either be True, False or None.",
     "output_type": "error",
     "traceback": [
      "\u001b[1;31m---------------------------------------------------------------------------\u001b[0m",
      "\u001b[1;31mTypeError\u001b[0m                                 Traceback (most recent call last)",
      "\u001b[1;32m~\\AppData\\Local\\Temp\\ipykernel_12116\\1300272076.py\u001b[0m in \u001b[0;36m<module>\u001b[1;34m\u001b[0m\n\u001b[1;32m----> 1\u001b[1;33m \u001b[0mVendorDE\u001b[0m \u001b[1;33m=\u001b[0m \u001b[0mvd\u001b[0m\u001b[1;33m.\u001b[0m\u001b[0mVendorData\u001b[0m\u001b[1;33m(\u001b[0m\u001b[1;34m\"Tutorial\"\u001b[0m\u001b[1;33m,\u001b[0m \u001b[1;34m\"English\"\u001b[0m\u001b[1;33m,\u001b[0m \u001b[1;34m\"German\"\u001b[0m\u001b[1;33m,\u001b[0m \u001b[1;34m\"Thomas Zwiebel\"\u001b[0m\u001b[1;33m,\u001b[0m \u001b[0mPreferred\u001b[0m \u001b[1;33m=\u001b[0m \u001b[1;34m\"Test\"\u001b[0m\u001b[1;33m)\u001b[0m\u001b[1;33m\u001b[0m\u001b[1;33m\u001b[0m\u001b[0m\n\u001b[0m",
      "\u001b[1;32m~\\OneDrive\\Documenten\\School\\PostgraduaatTranslationTechnology\\IntroductionToPython\\Final_Assignment1\\vendor_data.py\u001b[0m in \u001b[0;36m__init__\u001b[1;34m(self, ProjectName, SourceLang, TargLang, VendorName, VendorMail, WordRate, CatTool, Preferred)\u001b[0m\n\u001b[0;32m    133\u001b[0m         \u001b[1;32mif\u001b[0m \u001b[0mPreferred\u001b[0m \u001b[1;33m!=\u001b[0m \u001b[1;32mNone\u001b[0m\u001b[1;33m:\u001b[0m\u001b[1;33m\u001b[0m\u001b[1;33m\u001b[0m\u001b[0m\n\u001b[0;32m    134\u001b[0m             \u001b[1;32mif\u001b[0m \u001b[0mtype\u001b[0m\u001b[1;33m(\u001b[0m\u001b[0mPreferred\u001b[0m\u001b[1;33m)\u001b[0m \u001b[1;33m!=\u001b[0m \u001b[0mbool\u001b[0m\u001b[1;33m:\u001b[0m\u001b[1;33m\u001b[0m\u001b[1;33m\u001b[0m\u001b[0m\n\u001b[1;32m--> 135\u001b[1;33m                 \u001b[1;32mraise\u001b[0m \u001b[0mTypeError\u001b[0m\u001b[1;33m(\u001b[0m\u001b[1;34m\"Preferred should either be True, False or None.\"\u001b[0m\u001b[1;33m)\u001b[0m\u001b[1;33m\u001b[0m\u001b[1;33m\u001b[0m\u001b[0m\n\u001b[0m\u001b[0;32m    136\u001b[0m         \u001b[1;32mif\u001b[0m \u001b[0mPreferred\u001b[0m \u001b[1;33m!=\u001b[0m \u001b[1;32mNone\u001b[0m\u001b[1;33m:\u001b[0m \u001b[1;31m#if Preferred is set to True, status will be preferred, if set to False, back-up and if neither \"Potential\"\u001b[0m\u001b[1;33m\u001b[0m\u001b[1;33m\u001b[0m\u001b[0m\n\u001b[0;32m    137\u001b[0m             \u001b[1;32mif\u001b[0m \u001b[0mPreferred\u001b[0m\u001b[1;33m:\u001b[0m\u001b[1;33m\u001b[0m\u001b[1;33m\u001b[0m\u001b[0m\n",
      "\u001b[1;31mTypeError\u001b[0m: Preferred should either be True, False or None."
     ]
    }
   ],
   "source": [
    "VendorDE = vd.VendorData(\"Tutorial\", \"English\", \"German\", \"Thomas Zwiebel\", Preferred = \"Test\")"
   ]
  },
  {
   "cell_type": "code",
   "execution_count": 38,
   "id": "8b74ce10",
   "metadata": {},
   "outputs": [
    {
     "ename": "TypeError",
     "evalue": "CatTool should be a string!",
     "output_type": "error",
     "traceback": [
      "\u001b[1;31m---------------------------------------------------------------------------\u001b[0m",
      "\u001b[1;31mTypeError\u001b[0m                                 Traceback (most recent call last)",
      "\u001b[1;32m~\\AppData\\Local\\Temp\\ipykernel_12116\\2908856665.py\u001b[0m in \u001b[0;36m<module>\u001b[1;34m\u001b[0m\n\u001b[1;32m----> 1\u001b[1;33m \u001b[0mVendorDE\u001b[0m \u001b[1;33m=\u001b[0m \u001b[0mvd\u001b[0m\u001b[1;33m.\u001b[0m\u001b[0mVendorData\u001b[0m\u001b[1;33m(\u001b[0m\u001b[1;34m\"Tutorial\"\u001b[0m\u001b[1;33m,\u001b[0m \u001b[1;34m\"English\"\u001b[0m\u001b[1;33m,\u001b[0m \u001b[1;34m\"German\"\u001b[0m\u001b[1;33m,\u001b[0m \u001b[1;34m\"Thomas Zwiebel\"\u001b[0m\u001b[1;33m,\u001b[0m \u001b[0mCatTool\u001b[0m \u001b[1;33m=\u001b[0m \u001b[1;32mTrue\u001b[0m\u001b[1;33m)\u001b[0m\u001b[1;33m\u001b[0m\u001b[1;33m\u001b[0m\u001b[0m\n\u001b[0m",
      "\u001b[1;32m~\\OneDrive\\Documenten\\School\\PostgraduaatTranslationTechnology\\IntroductionToPython\\Final_Assignment1\\vendor_data.py\u001b[0m in \u001b[0;36m__init__\u001b[1;34m(self, ProjectName, SourceLang, TargLang, VendorName, VendorMail, WordRate, CatTool, Preferred)\u001b[0m\n\u001b[0;32m    130\u001b[0m             \u001b[0mCheckWordRate\u001b[0m\u001b[1;33m(\u001b[0m\u001b[0mWordRate\u001b[0m\u001b[1;33m)\u001b[0m\u001b[1;33m\u001b[0m\u001b[1;33m\u001b[0m\u001b[0m\n\u001b[0;32m    131\u001b[0m         \u001b[1;32mif\u001b[0m \u001b[0mCatTool\u001b[0m\u001b[1;33m:\u001b[0m \u001b[1;31m#validate CAT Tool if one is provided\u001b[0m\u001b[1;33m\u001b[0m\u001b[1;33m\u001b[0m\u001b[0m\n\u001b[1;32m--> 132\u001b[1;33m             \u001b[0mCheckCatTool\u001b[0m\u001b[1;33m(\u001b[0m\u001b[0mCatTool\u001b[0m\u001b[1;33m)\u001b[0m\u001b[1;33m\u001b[0m\u001b[1;33m\u001b[0m\u001b[0m\n\u001b[0m\u001b[0;32m    133\u001b[0m         \u001b[1;32mif\u001b[0m \u001b[0mPreferred\u001b[0m \u001b[1;33m!=\u001b[0m \u001b[1;32mNone\u001b[0m\u001b[1;33m:\u001b[0m\u001b[1;33m\u001b[0m\u001b[1;33m\u001b[0m\u001b[0m\n\u001b[0;32m    134\u001b[0m             \u001b[1;32mif\u001b[0m \u001b[0mtype\u001b[0m\u001b[1;33m(\u001b[0m\u001b[0mPreferred\u001b[0m\u001b[1;33m)\u001b[0m \u001b[1;33m!=\u001b[0m \u001b[0mbool\u001b[0m\u001b[1;33m:\u001b[0m\u001b[1;33m\u001b[0m\u001b[1;33m\u001b[0m\u001b[0m\n",
      "\u001b[1;32m~\\OneDrive\\Documenten\\School\\PostgraduaatTranslationTechnology\\IntroductionToPython\\Final_Assignment1\\vendor_data.py\u001b[0m in \u001b[0;36mCheckCatTool\u001b[1;34m(CatTool)\u001b[0m\n\u001b[0;32m     83\u001b[0m     \"\"\"\n\u001b[0;32m     84\u001b[0m     \u001b[1;32mif\u001b[0m \u001b[0mtype\u001b[0m\u001b[1;33m(\u001b[0m\u001b[0mCatTool\u001b[0m\u001b[1;33m)\u001b[0m \u001b[1;33m!=\u001b[0m \u001b[0mstr\u001b[0m\u001b[1;33m:\u001b[0m\u001b[1;33m\u001b[0m\u001b[1;33m\u001b[0m\u001b[0m\n\u001b[1;32m---> 85\u001b[1;33m         \u001b[1;32mraise\u001b[0m \u001b[0mTypeError\u001b[0m\u001b[1;33m(\u001b[0m\u001b[1;34m\"CatTool should be a string!\"\u001b[0m\u001b[1;33m)\u001b[0m\u001b[1;33m\u001b[0m\u001b[1;33m\u001b[0m\u001b[0m\n\u001b[0m\u001b[0;32m     86\u001b[0m     \u001b[1;32mif\u001b[0m \u001b[1;32mnot\u001b[0m \u001b[0mCatTool\u001b[0m \u001b[1;32min\u001b[0m \u001b[1;33m[\u001b[0m\u001b[1;34m\"XTM\"\u001b[0m\u001b[1;33m,\u001b[0m \u001b[1;34m\"Trados Studio\"\u001b[0m\u001b[1;33m,\u001b[0m \u001b[1;34m\"MemoQ\"\u001b[0m\u001b[1;33m,\u001b[0m \u001b[1;34m\"Memsource\"\u001b[0m\u001b[1;33m]\u001b[0m\u001b[1;33m:\u001b[0m\u001b[1;33m\u001b[0m\u001b[1;33m\u001b[0m\u001b[0m\n\u001b[0;32m     87\u001b[0m             \u001b[1;32mraise\u001b[0m \u001b[0mValueError\u001b[0m\u001b[1;33m(\u001b[0m\u001b[1;34m\"This CAT tool is not valid. Run 'VendorData.CatTools' to check options.\"\u001b[0m\u001b[1;33m)\u001b[0m\u001b[1;33m\u001b[0m\u001b[1;33m\u001b[0m\u001b[0m\n",
      "\u001b[1;31mTypeError\u001b[0m: CatTool should be a string!"
     ]
    }
   ],
   "source": [
    "VendorDE = vd.VendorData(\"Tutorial\", \"English\", \"German\", \"Thomas Zwiebel\", CatTool = True)"
   ]
  },
  {
   "cell_type": "markdown",
   "id": "e7658f35",
   "metadata": {},
   "source": [
    "There are also some functions that ensure that:\n",
    "- `VendorMail` is a valid e-mail address by checking it against a regex string;\n",
    "- `WordRate` is not 0.00 or more than 0.15\n",
    "- `CatTool` is one of the following: XTM, Trados Studio, MemoQ or Memsource"
   ]
  },
  {
   "cell_type": "code",
   "execution_count": 39,
   "id": "14d9561a",
   "metadata": {},
   "outputs": [
    {
     "ename": "ValueError",
     "evalue": "Please insert a valid email address.",
     "output_type": "error",
     "traceback": [
      "\u001b[1;31m---------------------------------------------------------------------------\u001b[0m",
      "\u001b[1;31mValueError\u001b[0m                                Traceback (most recent call last)",
      "\u001b[1;32m~\\AppData\\Local\\Temp\\ipykernel_12116\\2329585938.py\u001b[0m in \u001b[0;36m<module>\u001b[1;34m\u001b[0m\n\u001b[1;32m----> 1\u001b[1;33m \u001b[0mVendorDE\u001b[0m \u001b[1;33m=\u001b[0m \u001b[0mvd\u001b[0m\u001b[1;33m.\u001b[0m\u001b[0mVendorData\u001b[0m\u001b[1;33m(\u001b[0m\u001b[1;34m\"Tutorial\"\u001b[0m\u001b[1;33m,\u001b[0m \u001b[1;34m\"English\"\u001b[0m\u001b[1;33m,\u001b[0m \u001b[1;34m\"German\"\u001b[0m\u001b[1;33m,\u001b[0m \u001b[1;34m\"Thomas Zwiebel\"\u001b[0m\u001b[1;33m,\u001b[0m \u001b[0mVendorMail\u001b[0m \u001b[1;33m=\u001b[0m \u001b[1;34m\"thomas.zw\"\u001b[0m\u001b[1;33m)\u001b[0m\u001b[1;33m\u001b[0m\u001b[1;33m\u001b[0m\u001b[0m\n\u001b[0m",
      "\u001b[1;32m~\\OneDrive\\Documenten\\School\\PostgraduaatTranslationTechnology\\IntroductionToPython\\Final_Assignment1\\vendor_data.py\u001b[0m in \u001b[0;36m__init__\u001b[1;34m(self, ProjectName, SourceLang, TargLang, VendorName, VendorMail, WordRate, CatTool, Preferred)\u001b[0m\n\u001b[0;32m    126\u001b[0m             \u001b[1;32mraise\u001b[0m \u001b[0mTypeError\u001b[0m\u001b[1;33m(\u001b[0m\u001b[1;34m\"VendorName should be a string!\"\u001b[0m\u001b[1;33m)\u001b[0m\u001b[1;33m\u001b[0m\u001b[1;33m\u001b[0m\u001b[0m\n\u001b[0;32m    127\u001b[0m         \u001b[1;32mif\u001b[0m \u001b[0mVendorMail\u001b[0m\u001b[1;33m:\u001b[0m \u001b[1;31m#validate e-mail address if one is provided\u001b[0m\u001b[1;33m\u001b[0m\u001b[1;33m\u001b[0m\u001b[0m\n\u001b[1;32m--> 128\u001b[1;33m             \u001b[0mCheckVendorMail\u001b[0m\u001b[1;33m(\u001b[0m\u001b[0mVendorMail\u001b[0m\u001b[1;33m)\u001b[0m\u001b[1;33m\u001b[0m\u001b[1;33m\u001b[0m\u001b[0m\n\u001b[0m\u001b[0;32m    129\u001b[0m         \u001b[1;32mif\u001b[0m \u001b[0mWordRate\u001b[0m \u001b[1;33m!=\u001b[0m \u001b[1;32mNone\u001b[0m\u001b[1;33m:\u001b[0m \u001b[1;31m#validate word rate if one is provided\u001b[0m\u001b[1;33m\u001b[0m\u001b[1;33m\u001b[0m\u001b[0m\n\u001b[0;32m    130\u001b[0m             \u001b[0mCheckWordRate\u001b[0m\u001b[1;33m(\u001b[0m\u001b[0mWordRate\u001b[0m\u001b[1;33m)\u001b[0m\u001b[1;33m\u001b[0m\u001b[1;33m\u001b[0m\u001b[0m\n",
      "\u001b[1;32m~\\OneDrive\\Documenten\\School\\PostgraduaatTranslationTechnology\\IntroductionToPython\\Final_Assignment1\\vendor_data.py\u001b[0m in \u001b[0;36mCheckVendorMail\u001b[1;34m(VendorMail)\u001b[0m\n\u001b[0;32m     54\u001b[0m         \u001b[1;32mraise\u001b[0m \u001b[0mTypeError\u001b[0m \u001b[1;33m(\u001b[0m\u001b[1;34m\"VendorMail should be a string!\"\u001b[0m\u001b[1;33m)\u001b[0m\u001b[1;33m\u001b[0m\u001b[1;33m\u001b[0m\u001b[0m\n\u001b[0;32m     55\u001b[0m     \u001b[1;32mif\u001b[0m \u001b[1;32mnot\u001b[0m\u001b[1;33m(\u001b[0m\u001b[0mre\u001b[0m\u001b[1;33m.\u001b[0m\u001b[0msearch\u001b[0m\u001b[1;33m(\u001b[0m\u001b[0mregex_mail\u001b[0m\u001b[1;33m,\u001b[0m\u001b[0mVendorMail\u001b[0m\u001b[1;33m)\u001b[0m\u001b[1;33m)\u001b[0m\u001b[1;33m:\u001b[0m\u001b[1;33m\u001b[0m\u001b[1;33m\u001b[0m\u001b[0m\n\u001b[1;32m---> 56\u001b[1;33m         \u001b[1;32mraise\u001b[0m \u001b[0mValueError\u001b[0m\u001b[1;33m(\u001b[0m\u001b[1;34m\"Please insert a valid email address.\"\u001b[0m\u001b[1;33m)\u001b[0m\u001b[1;33m\u001b[0m\u001b[1;33m\u001b[0m\u001b[0m\n\u001b[0m\u001b[0;32m     57\u001b[0m \u001b[1;32mdef\u001b[0m \u001b[0mCheckWordRate\u001b[0m\u001b[1;33m(\u001b[0m\u001b[0mWordRate\u001b[0m\u001b[1;33m)\u001b[0m\u001b[1;33m:\u001b[0m\u001b[1;33m\u001b[0m\u001b[1;33m\u001b[0m\u001b[0m\n\u001b[0;32m     58\u001b[0m     \"\"\"CheckWordRate, validate word rate\n",
      "\u001b[1;31mValueError\u001b[0m: Please insert a valid email address."
     ]
    }
   ],
   "source": [
    "VendorDE = vd.VendorData(\"Tutorial\", \"English\", \"German\", \"Thomas Zwiebel\", VendorMail = \"thomas.zw\")"
   ]
  },
  {
   "cell_type": "code",
   "execution_count": 40,
   "id": "689a0133",
   "metadata": {},
   "outputs": [
    {
     "ename": "ValueError",
     "evalue": "This vendor is too expensive, pick another one.",
     "output_type": "error",
     "traceback": [
      "\u001b[1;31m---------------------------------------------------------------------------\u001b[0m",
      "\u001b[1;31mValueError\u001b[0m                                Traceback (most recent call last)",
      "\u001b[1;32m~\\AppData\\Local\\Temp\\ipykernel_12116\\389829205.py\u001b[0m in \u001b[0;36m<module>\u001b[1;34m\u001b[0m\n\u001b[1;32m----> 1\u001b[1;33m \u001b[0mVendorDE\u001b[0m \u001b[1;33m=\u001b[0m \u001b[0mvd\u001b[0m\u001b[1;33m.\u001b[0m\u001b[0mVendorData\u001b[0m\u001b[1;33m(\u001b[0m\u001b[1;34m\"Tutorial\"\u001b[0m\u001b[1;33m,\u001b[0m \u001b[1;34m\"English\"\u001b[0m\u001b[1;33m,\u001b[0m \u001b[1;34m\"German\"\u001b[0m\u001b[1;33m,\u001b[0m \u001b[1;34m\"Thomas Zwiebel\"\u001b[0m\u001b[1;33m,\u001b[0m \u001b[0mWordRate\u001b[0m \u001b[1;33m=\u001b[0m \u001b[1;36m0.19\u001b[0m\u001b[1;33m)\u001b[0m\u001b[1;33m\u001b[0m\u001b[1;33m\u001b[0m\u001b[0m\n\u001b[0m",
      "\u001b[1;32m~\\OneDrive\\Documenten\\School\\PostgraduaatTranslationTechnology\\IntroductionToPython\\Final_Assignment1\\vendor_data.py\u001b[0m in \u001b[0;36m__init__\u001b[1;34m(self, ProjectName, SourceLang, TargLang, VendorName, VendorMail, WordRate, CatTool, Preferred)\u001b[0m\n\u001b[0;32m    128\u001b[0m             \u001b[0mCheckVendorMail\u001b[0m\u001b[1;33m(\u001b[0m\u001b[0mVendorMail\u001b[0m\u001b[1;33m)\u001b[0m\u001b[1;33m\u001b[0m\u001b[1;33m\u001b[0m\u001b[0m\n\u001b[0;32m    129\u001b[0m         \u001b[1;32mif\u001b[0m \u001b[0mWordRate\u001b[0m \u001b[1;33m!=\u001b[0m \u001b[1;32mNone\u001b[0m\u001b[1;33m:\u001b[0m \u001b[1;31m#validate word rate if one is provided\u001b[0m\u001b[1;33m\u001b[0m\u001b[1;33m\u001b[0m\u001b[0m\n\u001b[1;32m--> 130\u001b[1;33m             \u001b[0mCheckWordRate\u001b[0m\u001b[1;33m(\u001b[0m\u001b[0mWordRate\u001b[0m\u001b[1;33m)\u001b[0m\u001b[1;33m\u001b[0m\u001b[1;33m\u001b[0m\u001b[0m\n\u001b[0m\u001b[0;32m    131\u001b[0m         \u001b[1;32mif\u001b[0m \u001b[0mCatTool\u001b[0m\u001b[1;33m:\u001b[0m \u001b[1;31m#validate CAT Tool if one is provided\u001b[0m\u001b[1;33m\u001b[0m\u001b[1;33m\u001b[0m\u001b[0m\n\u001b[0;32m    132\u001b[0m             \u001b[0mCheckCatTool\u001b[0m\u001b[1;33m(\u001b[0m\u001b[0mCatTool\u001b[0m\u001b[1;33m)\u001b[0m\u001b[1;33m\u001b[0m\u001b[1;33m\u001b[0m\u001b[0m\n",
      "\u001b[1;32m~\\OneDrive\\Documenten\\School\\PostgraduaatTranslationTechnology\\IntroductionToPython\\Final_Assignment1\\vendor_data.py\u001b[0m in \u001b[0;36mCheckWordRate\u001b[1;34m(WordRate)\u001b[0m\n\u001b[0;32m     69\u001b[0m         \u001b[1;32mraise\u001b[0m \u001b[0mTypeError\u001b[0m\u001b[1;33m(\u001b[0m\u001b[1;34m\"WordRate should be a float!\"\u001b[0m\u001b[1;33m)\u001b[0m\u001b[1;33m\u001b[0m\u001b[1;33m\u001b[0m\u001b[0m\n\u001b[0;32m     70\u001b[0m     \u001b[1;32mif\u001b[0m \u001b[0mWordRate\u001b[0m \u001b[1;33m>\u001b[0m \u001b[1;36m0.15\u001b[0m\u001b[1;33m:\u001b[0m\u001b[1;33m\u001b[0m\u001b[1;33m\u001b[0m\u001b[0m\n\u001b[1;32m---> 71\u001b[1;33m         \u001b[1;32mraise\u001b[0m \u001b[0mValueError\u001b[0m\u001b[1;33m(\u001b[0m\u001b[1;34m\"This vendor is too expensive, pick another one.\"\u001b[0m\u001b[1;33m)\u001b[0m\u001b[1;33m\u001b[0m\u001b[1;33m\u001b[0m\u001b[0m\n\u001b[0m\u001b[0;32m     72\u001b[0m     \u001b[1;32mif\u001b[0m \u001b[0mWordRate\u001b[0m \u001b[1;33m==\u001b[0m \u001b[1;36m0.00\u001b[0m\u001b[1;33m:\u001b[0m\u001b[1;33m\u001b[0m\u001b[1;33m\u001b[0m\u001b[0m\n\u001b[0;32m     73\u001b[0m         \u001b[1;32mraise\u001b[0m \u001b[0mValueError\u001b[0m\u001b[1;33m(\u001b[0m\u001b[1;34m\"Word rate cannot be 0.00.\"\u001b[0m\u001b[1;33m)\u001b[0m\u001b[1;33m\u001b[0m\u001b[1;33m\u001b[0m\u001b[0m\n",
      "\u001b[1;31mValueError\u001b[0m: This vendor is too expensive, pick another one."
     ]
    }
   ],
   "source": [
    "VendorDE = vd.VendorData(\"Tutorial\", \"English\", \"German\", \"Thomas Zwiebel\", WordRate = 0.19)"
   ]
  },
  {
   "cell_type": "code",
   "execution_count": 41,
   "id": "a5a88daf",
   "metadata": {},
   "outputs": [
    {
     "ename": "ValueError",
     "evalue": "Word rate cannot be 0.00.",
     "output_type": "error",
     "traceback": [
      "\u001b[1;31m---------------------------------------------------------------------------\u001b[0m",
      "\u001b[1;31mValueError\u001b[0m                                Traceback (most recent call last)",
      "\u001b[1;32m~\\AppData\\Local\\Temp\\ipykernel_12116\\2186391260.py\u001b[0m in \u001b[0;36m<module>\u001b[1;34m\u001b[0m\n\u001b[1;32m----> 1\u001b[1;33m \u001b[0mVendorDE\u001b[0m \u001b[1;33m=\u001b[0m \u001b[0mvd\u001b[0m\u001b[1;33m.\u001b[0m\u001b[0mVendorData\u001b[0m\u001b[1;33m(\u001b[0m\u001b[1;34m\"Tutorial\"\u001b[0m\u001b[1;33m,\u001b[0m \u001b[1;34m\"English\"\u001b[0m\u001b[1;33m,\u001b[0m \u001b[1;34m\"German\"\u001b[0m\u001b[1;33m,\u001b[0m \u001b[1;34m\"Thomas Zwiebel\"\u001b[0m\u001b[1;33m,\u001b[0m \u001b[0mWordRate\u001b[0m \u001b[1;33m=\u001b[0m \u001b[1;36m0.00\u001b[0m\u001b[1;33m)\u001b[0m\u001b[1;33m\u001b[0m\u001b[1;33m\u001b[0m\u001b[0m\n\u001b[0m",
      "\u001b[1;32m~\\OneDrive\\Documenten\\School\\PostgraduaatTranslationTechnology\\IntroductionToPython\\Final_Assignment1\\vendor_data.py\u001b[0m in \u001b[0;36m__init__\u001b[1;34m(self, ProjectName, SourceLang, TargLang, VendorName, VendorMail, WordRate, CatTool, Preferred)\u001b[0m\n\u001b[0;32m    128\u001b[0m             \u001b[0mCheckVendorMail\u001b[0m\u001b[1;33m(\u001b[0m\u001b[0mVendorMail\u001b[0m\u001b[1;33m)\u001b[0m\u001b[1;33m\u001b[0m\u001b[1;33m\u001b[0m\u001b[0m\n\u001b[0;32m    129\u001b[0m         \u001b[1;32mif\u001b[0m \u001b[0mWordRate\u001b[0m \u001b[1;33m!=\u001b[0m \u001b[1;32mNone\u001b[0m\u001b[1;33m:\u001b[0m \u001b[1;31m#validate word rate if one is provided\u001b[0m\u001b[1;33m\u001b[0m\u001b[1;33m\u001b[0m\u001b[0m\n\u001b[1;32m--> 130\u001b[1;33m             \u001b[0mCheckWordRate\u001b[0m\u001b[1;33m(\u001b[0m\u001b[0mWordRate\u001b[0m\u001b[1;33m)\u001b[0m\u001b[1;33m\u001b[0m\u001b[1;33m\u001b[0m\u001b[0m\n\u001b[0m\u001b[0;32m    131\u001b[0m         \u001b[1;32mif\u001b[0m \u001b[0mCatTool\u001b[0m\u001b[1;33m:\u001b[0m \u001b[1;31m#validate CAT Tool if one is provided\u001b[0m\u001b[1;33m\u001b[0m\u001b[1;33m\u001b[0m\u001b[0m\n\u001b[0;32m    132\u001b[0m             \u001b[0mCheckCatTool\u001b[0m\u001b[1;33m(\u001b[0m\u001b[0mCatTool\u001b[0m\u001b[1;33m)\u001b[0m\u001b[1;33m\u001b[0m\u001b[1;33m\u001b[0m\u001b[0m\n",
      "\u001b[1;32m~\\OneDrive\\Documenten\\School\\PostgraduaatTranslationTechnology\\IntroductionToPython\\Final_Assignment1\\vendor_data.py\u001b[0m in \u001b[0;36mCheckWordRate\u001b[1;34m(WordRate)\u001b[0m\n\u001b[0;32m     71\u001b[0m         \u001b[1;32mraise\u001b[0m \u001b[0mValueError\u001b[0m\u001b[1;33m(\u001b[0m\u001b[1;34m\"This vendor is too expensive, pick another one.\"\u001b[0m\u001b[1;33m)\u001b[0m\u001b[1;33m\u001b[0m\u001b[1;33m\u001b[0m\u001b[0m\n\u001b[0;32m     72\u001b[0m     \u001b[1;32mif\u001b[0m \u001b[0mWordRate\u001b[0m \u001b[1;33m==\u001b[0m \u001b[1;36m0.00\u001b[0m\u001b[1;33m:\u001b[0m\u001b[1;33m\u001b[0m\u001b[1;33m\u001b[0m\u001b[0m\n\u001b[1;32m---> 73\u001b[1;33m         \u001b[1;32mraise\u001b[0m \u001b[0mValueError\u001b[0m\u001b[1;33m(\u001b[0m\u001b[1;34m\"Word rate cannot be 0.00.\"\u001b[0m\u001b[1;33m)\u001b[0m\u001b[1;33m\u001b[0m\u001b[1;33m\u001b[0m\u001b[0m\n\u001b[0m\u001b[0;32m     74\u001b[0m \u001b[1;32mdef\u001b[0m \u001b[0mCheckCatTool\u001b[0m\u001b[1;33m(\u001b[0m\u001b[0mCatTool\u001b[0m\u001b[1;33m)\u001b[0m\u001b[1;33m:\u001b[0m\u001b[1;33m\u001b[0m\u001b[1;33m\u001b[0m\u001b[0m\n\u001b[0;32m     75\u001b[0m     \"\"\"CheckCatTool, validate CatTOol\n",
      "\u001b[1;31mValueError\u001b[0m: Word rate cannot be 0.00."
     ]
    }
   ],
   "source": [
    "VendorDE = vd.VendorData(\"Tutorial\", \"English\", \"German\", \"Thomas Zwiebel\", WordRate = 0.00)"
   ]
  },
  {
   "cell_type": "code",
   "execution_count": 42,
   "id": "a6506797",
   "metadata": {},
   "outputs": [
    {
     "ename": "ValueError",
     "evalue": "This CAT tool is not valid. Run 'VendorData.CatTools' to check options.",
     "output_type": "error",
     "traceback": [
      "\u001b[1;31m---------------------------------------------------------------------------\u001b[0m",
      "\u001b[1;31mValueError\u001b[0m                                Traceback (most recent call last)",
      "\u001b[1;32m~\\AppData\\Local\\Temp\\ipykernel_12116\\153109120.py\u001b[0m in \u001b[0;36m<module>\u001b[1;34m\u001b[0m\n\u001b[1;32m----> 1\u001b[1;33m \u001b[0mVendorDE\u001b[0m \u001b[1;33m=\u001b[0m \u001b[0mvd\u001b[0m\u001b[1;33m.\u001b[0m\u001b[0mVendorData\u001b[0m\u001b[1;33m(\u001b[0m\u001b[1;34m\"Tutorial\"\u001b[0m\u001b[1;33m,\u001b[0m \u001b[1;34m\"English\"\u001b[0m\u001b[1;33m,\u001b[0m \u001b[1;34m\"German\"\u001b[0m\u001b[1;33m,\u001b[0m \u001b[1;34m\"Thomas Zwiebel\"\u001b[0m\u001b[1;33m,\u001b[0m \u001b[0mCatTool\u001b[0m \u001b[1;33m=\u001b[0m \u001b[1;34m\"SDL Trados Studio\"\u001b[0m\u001b[1;33m)\u001b[0m\u001b[1;33m\u001b[0m\u001b[1;33m\u001b[0m\u001b[0m\n\u001b[0m",
      "\u001b[1;32m~\\OneDrive\\Documenten\\School\\PostgraduaatTranslationTechnology\\IntroductionToPython\\Final_Assignment1\\vendor_data.py\u001b[0m in \u001b[0;36m__init__\u001b[1;34m(self, ProjectName, SourceLang, TargLang, VendorName, VendorMail, WordRate, CatTool, Preferred)\u001b[0m\n\u001b[0;32m    130\u001b[0m             \u001b[0mCheckWordRate\u001b[0m\u001b[1;33m(\u001b[0m\u001b[0mWordRate\u001b[0m\u001b[1;33m)\u001b[0m\u001b[1;33m\u001b[0m\u001b[1;33m\u001b[0m\u001b[0m\n\u001b[0;32m    131\u001b[0m         \u001b[1;32mif\u001b[0m \u001b[0mCatTool\u001b[0m\u001b[1;33m:\u001b[0m \u001b[1;31m#validate CAT Tool if one is provided\u001b[0m\u001b[1;33m\u001b[0m\u001b[1;33m\u001b[0m\u001b[0m\n\u001b[1;32m--> 132\u001b[1;33m             \u001b[0mCheckCatTool\u001b[0m\u001b[1;33m(\u001b[0m\u001b[0mCatTool\u001b[0m\u001b[1;33m)\u001b[0m\u001b[1;33m\u001b[0m\u001b[1;33m\u001b[0m\u001b[0m\n\u001b[0m\u001b[0;32m    133\u001b[0m         \u001b[1;32mif\u001b[0m \u001b[0mPreferred\u001b[0m \u001b[1;33m!=\u001b[0m \u001b[1;32mNone\u001b[0m\u001b[1;33m:\u001b[0m\u001b[1;33m\u001b[0m\u001b[1;33m\u001b[0m\u001b[0m\n\u001b[0;32m    134\u001b[0m             \u001b[1;32mif\u001b[0m \u001b[0mtype\u001b[0m\u001b[1;33m(\u001b[0m\u001b[0mPreferred\u001b[0m\u001b[1;33m)\u001b[0m \u001b[1;33m!=\u001b[0m \u001b[0mbool\u001b[0m\u001b[1;33m:\u001b[0m\u001b[1;33m\u001b[0m\u001b[1;33m\u001b[0m\u001b[0m\n",
      "\u001b[1;32m~\\OneDrive\\Documenten\\School\\PostgraduaatTranslationTechnology\\IntroductionToPython\\Final_Assignment1\\vendor_data.py\u001b[0m in \u001b[0;36mCheckCatTool\u001b[1;34m(CatTool)\u001b[0m\n\u001b[0;32m     85\u001b[0m         \u001b[1;32mraise\u001b[0m \u001b[0mTypeError\u001b[0m\u001b[1;33m(\u001b[0m\u001b[1;34m\"CatTool should be a string!\"\u001b[0m\u001b[1;33m)\u001b[0m\u001b[1;33m\u001b[0m\u001b[1;33m\u001b[0m\u001b[0m\n\u001b[0;32m     86\u001b[0m     \u001b[1;32mif\u001b[0m \u001b[1;32mnot\u001b[0m \u001b[0mCatTool\u001b[0m \u001b[1;32min\u001b[0m \u001b[1;33m[\u001b[0m\u001b[1;34m\"XTM\"\u001b[0m\u001b[1;33m,\u001b[0m \u001b[1;34m\"Trados Studio\"\u001b[0m\u001b[1;33m,\u001b[0m \u001b[1;34m\"MemoQ\"\u001b[0m\u001b[1;33m,\u001b[0m \u001b[1;34m\"Memsource\"\u001b[0m\u001b[1;33m]\u001b[0m\u001b[1;33m:\u001b[0m\u001b[1;33m\u001b[0m\u001b[1;33m\u001b[0m\u001b[0m\n\u001b[1;32m---> 87\u001b[1;33m             \u001b[1;32mraise\u001b[0m \u001b[0mValueError\u001b[0m\u001b[1;33m(\u001b[0m\u001b[1;34m\"This CAT tool is not valid. Run 'VendorData.CatTools' to check options.\"\u001b[0m\u001b[1;33m)\u001b[0m\u001b[1;33m\u001b[0m\u001b[1;33m\u001b[0m\u001b[0m\n\u001b[0m\u001b[0;32m     88\u001b[0m \u001b[1;33m\u001b[0m\u001b[0m\n\u001b[0;32m     89\u001b[0m \u001b[1;32mclass\u001b[0m \u001b[0mVendorData\u001b[0m\u001b[1;33m:\u001b[0m\u001b[1;33m\u001b[0m\u001b[1;33m\u001b[0m\u001b[0m\n",
      "\u001b[1;31mValueError\u001b[0m: This CAT tool is not valid. Run 'VendorData.CatTools' to check options."
     ]
    }
   ],
   "source": [
    "VendorDE = vd.VendorData(\"Tutorial\", \"English\", \"German\", \"Thomas Zwiebel\", CatTool = \"SDL Trados Studio\")"
   ]
  },
  {
   "cell_type": "markdown",
   "id": "35f4617f",
   "metadata": {},
   "source": [
    "As already mentioned, this kind of validation is done anytime user input is required, not only upon instantiating.\n",
    "More precisely, validation is done when:\n",
    "- One of the methods to set a value is run\n",
    "- The excel is modified using the `ModExcel` method"
   ]
  },
  {
   "cell_type": "code",
   "execution_count": 43,
   "id": "adb90ded",
   "metadata": {},
   "outputs": [],
   "source": [
    "VendorDE = vd.VendorData(\"Tutorial\", \"English\", \"German\", \"Thomas Zwiebel\") #for illustration we instantiate a new instance of VendorData"
   ]
  },
  {
   "cell_type": "code",
   "execution_count": 44,
   "id": "0e5da23b",
   "metadata": {},
   "outputs": [
    {
     "ename": "ValueError",
     "evalue": "Please insert a valid email address.",
     "output_type": "error",
     "traceback": [
      "\u001b[1;31m---------------------------------------------------------------------------\u001b[0m",
      "\u001b[1;31mValueError\u001b[0m                                Traceback (most recent call last)",
      "\u001b[1;32m~\\AppData\\Local\\Temp\\ipykernel_12116\\4282007076.py\u001b[0m in \u001b[0;36m<module>\u001b[1;34m\u001b[0m\n\u001b[1;32m----> 1\u001b[1;33m \u001b[0mVendorDE\u001b[0m\u001b[1;33m.\u001b[0m\u001b[0mSetVendorMail\u001b[0m\u001b[1;33m(\u001b[0m\u001b[1;34m\"thomas.zw@\"\u001b[0m\u001b[1;33m)\u001b[0m\u001b[1;33m\u001b[0m\u001b[1;33m\u001b[0m\u001b[0m\n\u001b[0m",
      "\u001b[1;32m~\\OneDrive\\Documenten\\School\\PostgraduaatTranslationTechnology\\IntroductionToPython\\Final_Assignment1\\vendor_data.py\u001b[0m in \u001b[0;36mSetVendorMail\u001b[1;34m(self, NewMail)\u001b[0m\n\u001b[0;32m    157\u001b[0m             \u001b[0mNewMail\u001b[0m \u001b[1;33m(\u001b[0m\u001b[0mstr\u001b[0m\u001b[1;33m)\u001b[0m\u001b[1;33m:\u001b[0m \u001b[0ma\u001b[0m \u001b[0mnew\u001b[0m \u001b[0me\u001b[0m\u001b[1;33m-\u001b[0m\u001b[0mmail\u001b[0m \u001b[0maddress\u001b[0m \u001b[1;32mfor\u001b[0m \u001b[0ma\u001b[0m \u001b[0mcertain\u001b[0m \u001b[0mvendor\u001b[0m\u001b[1;33m\u001b[0m\u001b[1;33m\u001b[0m\u001b[0m\n\u001b[0;32m    158\u001b[0m         \"\"\"\n\u001b[1;32m--> 159\u001b[1;33m         \u001b[0mCheckVendorMail\u001b[0m\u001b[1;33m(\u001b[0m\u001b[0mNewMail\u001b[0m\u001b[1;33m)\u001b[0m \u001b[1;31m#validate e-mail address\u001b[0m\u001b[1;33m\u001b[0m\u001b[1;33m\u001b[0m\u001b[0m\n\u001b[0m\u001b[0;32m    160\u001b[0m         \u001b[0mself\u001b[0m\u001b[1;33m.\u001b[0m\u001b[0mVendorMail\u001b[0m \u001b[1;33m=\u001b[0m \u001b[0mNewMail\u001b[0m \u001b[1;31m#value of VendorMail is changed\u001b[0m\u001b[1;33m\u001b[0m\u001b[1;33m\u001b[0m\u001b[0m\n\u001b[0;32m    161\u001b[0m \u001b[1;33m\u001b[0m\u001b[0m\n",
      "\u001b[1;32m~\\OneDrive\\Documenten\\School\\PostgraduaatTranslationTechnology\\IntroductionToPython\\Final_Assignment1\\vendor_data.py\u001b[0m in \u001b[0;36mCheckVendorMail\u001b[1;34m(VendorMail)\u001b[0m\n\u001b[0;32m     54\u001b[0m         \u001b[1;32mraise\u001b[0m \u001b[0mTypeError\u001b[0m \u001b[1;33m(\u001b[0m\u001b[1;34m\"VendorMail should be a string!\"\u001b[0m\u001b[1;33m)\u001b[0m\u001b[1;33m\u001b[0m\u001b[1;33m\u001b[0m\u001b[0m\n\u001b[0;32m     55\u001b[0m     \u001b[1;32mif\u001b[0m \u001b[1;32mnot\u001b[0m\u001b[1;33m(\u001b[0m\u001b[0mre\u001b[0m\u001b[1;33m.\u001b[0m\u001b[0msearch\u001b[0m\u001b[1;33m(\u001b[0m\u001b[0mregex_mail\u001b[0m\u001b[1;33m,\u001b[0m\u001b[0mVendorMail\u001b[0m\u001b[1;33m)\u001b[0m\u001b[1;33m)\u001b[0m\u001b[1;33m:\u001b[0m\u001b[1;33m\u001b[0m\u001b[1;33m\u001b[0m\u001b[0m\n\u001b[1;32m---> 56\u001b[1;33m         \u001b[1;32mraise\u001b[0m \u001b[0mValueError\u001b[0m\u001b[1;33m(\u001b[0m\u001b[1;34m\"Please insert a valid email address.\"\u001b[0m\u001b[1;33m)\u001b[0m\u001b[1;33m\u001b[0m\u001b[1;33m\u001b[0m\u001b[0m\n\u001b[0m\u001b[0;32m     57\u001b[0m \u001b[1;32mdef\u001b[0m \u001b[0mCheckWordRate\u001b[0m\u001b[1;33m(\u001b[0m\u001b[0mWordRate\u001b[0m\u001b[1;33m)\u001b[0m\u001b[1;33m:\u001b[0m\u001b[1;33m\u001b[0m\u001b[1;33m\u001b[0m\u001b[0m\n\u001b[0;32m     58\u001b[0m     \"\"\"CheckWordRate, validate word rate\n",
      "\u001b[1;31mValueError\u001b[0m: Please insert a valid email address."
     ]
    }
   ],
   "source": [
    "VendorDE.SetVendorMail(\"thomas.zw@\")"
   ]
  },
  {
   "cell_type": "code",
   "execution_count": 45,
   "id": "e2f58285",
   "metadata": {},
   "outputs": [
    {
     "ename": "ValueError",
     "evalue": "This vendor is too expensive, pick another one.",
     "output_type": "error",
     "traceback": [
      "\u001b[1;31m---------------------------------------------------------------------------\u001b[0m",
      "\u001b[1;31mValueError\u001b[0m                                Traceback (most recent call last)",
      "\u001b[1;32m~\\AppData\\Local\\Temp\\ipykernel_12116\\1677043638.py\u001b[0m in \u001b[0;36m<module>\u001b[1;34m\u001b[0m\n\u001b[1;32m----> 1\u001b[1;33m \u001b[0mVendorDE\u001b[0m\u001b[1;33m.\u001b[0m\u001b[0mSetWordRate\u001b[0m\u001b[1;33m(\u001b[0m\u001b[1;36m0.18\u001b[0m\u001b[1;33m)\u001b[0m\u001b[1;33m\u001b[0m\u001b[1;33m\u001b[0m\u001b[0m\n\u001b[0m",
      "\u001b[1;32m~\\OneDrive\\Documenten\\School\\PostgraduaatTranslationTechnology\\IntroductionToPython\\Final_Assignment1\\vendor_data.py\u001b[0m in \u001b[0;36mSetWordRate\u001b[1;34m(self, NewRate)\u001b[0m\n\u001b[0;32m    166\u001b[0m             \u001b[0mNewRate\u001b[0m \u001b[1;33m(\u001b[0m\u001b[0mfloat\u001b[0m\u001b[1;33m)\u001b[0m\u001b[1;33m:\u001b[0m \u001b[0ma\u001b[0m \u001b[0mnew\u001b[0m \u001b[0mword\u001b[0m \u001b[0mrate\u001b[0m \u001b[1;32mfor\u001b[0m \u001b[0ma\u001b[0m \u001b[0mcertain\u001b[0m \u001b[0mvendor\u001b[0m\u001b[1;33m\u001b[0m\u001b[1;33m\u001b[0m\u001b[0m\n\u001b[0;32m    167\u001b[0m         \"\"\"\n\u001b[1;32m--> 168\u001b[1;33m         \u001b[0mCheckWordRate\u001b[0m\u001b[1;33m(\u001b[0m\u001b[0mNewRate\u001b[0m\u001b[1;33m)\u001b[0m \u001b[1;31m#validate new word rate\u001b[0m\u001b[1;33m\u001b[0m\u001b[1;33m\u001b[0m\u001b[0m\n\u001b[0m\u001b[0;32m    169\u001b[0m         \u001b[0mself\u001b[0m\u001b[1;33m.\u001b[0m\u001b[0mWordRate\u001b[0m \u001b[1;33m=\u001b[0m \u001b[0mNewRate\u001b[0m \u001b[1;31m#value of WordRate is changed\u001b[0m\u001b[1;33m\u001b[0m\u001b[1;33m\u001b[0m\u001b[0m\n\u001b[0;32m    170\u001b[0m \u001b[1;33m\u001b[0m\u001b[0m\n",
      "\u001b[1;32m~\\OneDrive\\Documenten\\School\\PostgraduaatTranslationTechnology\\IntroductionToPython\\Final_Assignment1\\vendor_data.py\u001b[0m in \u001b[0;36mCheckWordRate\u001b[1;34m(WordRate)\u001b[0m\n\u001b[0;32m     69\u001b[0m         \u001b[1;32mraise\u001b[0m \u001b[0mTypeError\u001b[0m\u001b[1;33m(\u001b[0m\u001b[1;34m\"WordRate should be a float!\"\u001b[0m\u001b[1;33m)\u001b[0m\u001b[1;33m\u001b[0m\u001b[1;33m\u001b[0m\u001b[0m\n\u001b[0;32m     70\u001b[0m     \u001b[1;32mif\u001b[0m \u001b[0mWordRate\u001b[0m \u001b[1;33m>\u001b[0m \u001b[1;36m0.15\u001b[0m\u001b[1;33m:\u001b[0m\u001b[1;33m\u001b[0m\u001b[1;33m\u001b[0m\u001b[0m\n\u001b[1;32m---> 71\u001b[1;33m         \u001b[1;32mraise\u001b[0m \u001b[0mValueError\u001b[0m\u001b[1;33m(\u001b[0m\u001b[1;34m\"This vendor is too expensive, pick another one.\"\u001b[0m\u001b[1;33m)\u001b[0m\u001b[1;33m\u001b[0m\u001b[1;33m\u001b[0m\u001b[0m\n\u001b[0m\u001b[0;32m     72\u001b[0m     \u001b[1;32mif\u001b[0m \u001b[0mWordRate\u001b[0m \u001b[1;33m==\u001b[0m \u001b[1;36m0.00\u001b[0m\u001b[1;33m:\u001b[0m\u001b[1;33m\u001b[0m\u001b[1;33m\u001b[0m\u001b[0m\n\u001b[0;32m     73\u001b[0m         \u001b[1;32mraise\u001b[0m \u001b[0mValueError\u001b[0m\u001b[1;33m(\u001b[0m\u001b[1;34m\"Word rate cannot be 0.00.\"\u001b[0m\u001b[1;33m)\u001b[0m\u001b[1;33m\u001b[0m\u001b[1;33m\u001b[0m\u001b[0m\n",
      "\u001b[1;31mValueError\u001b[0m: This vendor is too expensive, pick another one."
     ]
    }
   ],
   "source": [
    "VendorDE.SetWordRate(0.18)"
   ]
  },
  {
   "cell_type": "code",
   "execution_count": 46,
   "id": "e03407b2",
   "metadata": {},
   "outputs": [
    {
     "ename": "ValueError",
     "evalue": "Word rate cannot be 0.00.",
     "output_type": "error",
     "traceback": [
      "\u001b[1;31m---------------------------------------------------------------------------\u001b[0m",
      "\u001b[1;31mValueError\u001b[0m                                Traceback (most recent call last)",
      "\u001b[1;32m~\\AppData\\Local\\Temp\\ipykernel_12116\\2070555766.py\u001b[0m in \u001b[0;36m<module>\u001b[1;34m\u001b[0m\n\u001b[1;32m----> 1\u001b[1;33m \u001b[0mVendorDE\u001b[0m\u001b[1;33m.\u001b[0m\u001b[0mSetWordRate\u001b[0m \u001b[1;33m(\u001b[0m\u001b[1;36m0.00\u001b[0m\u001b[1;33m)\u001b[0m\u001b[1;33m\u001b[0m\u001b[1;33m\u001b[0m\u001b[0m\n\u001b[0m",
      "\u001b[1;32m~\\OneDrive\\Documenten\\School\\PostgraduaatTranslationTechnology\\IntroductionToPython\\Final_Assignment1\\vendor_data.py\u001b[0m in \u001b[0;36mSetWordRate\u001b[1;34m(self, NewRate)\u001b[0m\n\u001b[0;32m    166\u001b[0m             \u001b[0mNewRate\u001b[0m \u001b[1;33m(\u001b[0m\u001b[0mfloat\u001b[0m\u001b[1;33m)\u001b[0m\u001b[1;33m:\u001b[0m \u001b[0ma\u001b[0m \u001b[0mnew\u001b[0m \u001b[0mword\u001b[0m \u001b[0mrate\u001b[0m \u001b[1;32mfor\u001b[0m \u001b[0ma\u001b[0m \u001b[0mcertain\u001b[0m \u001b[0mvendor\u001b[0m\u001b[1;33m\u001b[0m\u001b[1;33m\u001b[0m\u001b[0m\n\u001b[0;32m    167\u001b[0m         \"\"\"\n\u001b[1;32m--> 168\u001b[1;33m         \u001b[0mCheckWordRate\u001b[0m\u001b[1;33m(\u001b[0m\u001b[0mNewRate\u001b[0m\u001b[1;33m)\u001b[0m \u001b[1;31m#validate new word rate\u001b[0m\u001b[1;33m\u001b[0m\u001b[1;33m\u001b[0m\u001b[0m\n\u001b[0m\u001b[0;32m    169\u001b[0m         \u001b[0mself\u001b[0m\u001b[1;33m.\u001b[0m\u001b[0mWordRate\u001b[0m \u001b[1;33m=\u001b[0m \u001b[0mNewRate\u001b[0m \u001b[1;31m#value of WordRate is changed\u001b[0m\u001b[1;33m\u001b[0m\u001b[1;33m\u001b[0m\u001b[0m\n\u001b[0;32m    170\u001b[0m \u001b[1;33m\u001b[0m\u001b[0m\n",
      "\u001b[1;32m~\\OneDrive\\Documenten\\School\\PostgraduaatTranslationTechnology\\IntroductionToPython\\Final_Assignment1\\vendor_data.py\u001b[0m in \u001b[0;36mCheckWordRate\u001b[1;34m(WordRate)\u001b[0m\n\u001b[0;32m     71\u001b[0m         \u001b[1;32mraise\u001b[0m \u001b[0mValueError\u001b[0m\u001b[1;33m(\u001b[0m\u001b[1;34m\"This vendor is too expensive, pick another one.\"\u001b[0m\u001b[1;33m)\u001b[0m\u001b[1;33m\u001b[0m\u001b[1;33m\u001b[0m\u001b[0m\n\u001b[0;32m     72\u001b[0m     \u001b[1;32mif\u001b[0m \u001b[0mWordRate\u001b[0m \u001b[1;33m==\u001b[0m \u001b[1;36m0.00\u001b[0m\u001b[1;33m:\u001b[0m\u001b[1;33m\u001b[0m\u001b[1;33m\u001b[0m\u001b[0m\n\u001b[1;32m---> 73\u001b[1;33m         \u001b[1;32mraise\u001b[0m \u001b[0mValueError\u001b[0m\u001b[1;33m(\u001b[0m\u001b[1;34m\"Word rate cannot be 0.00.\"\u001b[0m\u001b[1;33m)\u001b[0m\u001b[1;33m\u001b[0m\u001b[1;33m\u001b[0m\u001b[0m\n\u001b[0m\u001b[0;32m     74\u001b[0m \u001b[1;32mdef\u001b[0m \u001b[0mCheckCatTool\u001b[0m\u001b[1;33m(\u001b[0m\u001b[0mCatTool\u001b[0m\u001b[1;33m)\u001b[0m\u001b[1;33m:\u001b[0m\u001b[1;33m\u001b[0m\u001b[1;33m\u001b[0m\u001b[0m\n\u001b[0;32m     75\u001b[0m     \"\"\"CheckCatTool, validate CatTOol\n",
      "\u001b[1;31mValueError\u001b[0m: Word rate cannot be 0.00."
     ]
    }
   ],
   "source": [
    "VendorDE.SetWordRate (0.00)"
   ]
  },
  {
   "cell_type": "code",
   "execution_count": 47,
   "id": "4f984703",
   "metadata": {},
   "outputs": [
    {
     "ename": "ValueError",
     "evalue": "This CAT tool is not valid. Run 'VendorData.CatTools' to check options.",
     "output_type": "error",
     "traceback": [
      "\u001b[1;31m---------------------------------------------------------------------------\u001b[0m",
      "\u001b[1;31mValueError\u001b[0m                                Traceback (most recent call last)",
      "\u001b[1;32m~\\AppData\\Local\\Temp\\ipykernel_12116\\3483989379.py\u001b[0m in \u001b[0;36m<module>\u001b[1;34m\u001b[0m\n\u001b[1;32m----> 1\u001b[1;33m \u001b[0mVendorDE\u001b[0m\u001b[1;33m.\u001b[0m\u001b[0mChangeTool\u001b[0m\u001b[1;33m(\u001b[0m\u001b[1;34m\"SDL Trados Studio\"\u001b[0m\u001b[1;33m)\u001b[0m\u001b[1;33m\u001b[0m\u001b[1;33m\u001b[0m\u001b[0m\n\u001b[0m",
      "\u001b[1;32m~\\OneDrive\\Documenten\\School\\PostgraduaatTranslationTechnology\\IntroductionToPython\\Final_Assignment1\\vendor_data.py\u001b[0m in \u001b[0;36mChangeTool\u001b[1;34m(self, NewTool)\u001b[0m\n\u001b[0;32m    175\u001b[0m             \u001b[0mNewTool\u001b[0m \u001b[1;33m(\u001b[0m\u001b[0mstr\u001b[0m\u001b[1;33m)\u001b[0m\u001b[1;33m:\u001b[0m \u001b[0ma\u001b[0m \u001b[0mnew\u001b[0m \u001b[0mtool\u001b[0m \u001b[1;32mfor\u001b[0m \u001b[0ma\u001b[0m \u001b[0mcertain\u001b[0m \u001b[0mvendor\u001b[0m\u001b[1;33m\u001b[0m\u001b[1;33m\u001b[0m\u001b[0m\n\u001b[0;32m    176\u001b[0m         \"\"\"\n\u001b[1;32m--> 177\u001b[1;33m         \u001b[0mCheckCatTool\u001b[0m\u001b[1;33m(\u001b[0m\u001b[0mNewTool\u001b[0m\u001b[1;33m)\u001b[0m \u001b[1;31m#validate new CAT Tool\u001b[0m\u001b[1;33m\u001b[0m\u001b[1;33m\u001b[0m\u001b[0m\n\u001b[0m\u001b[0;32m    178\u001b[0m         \u001b[0mself\u001b[0m\u001b[1;33m.\u001b[0m\u001b[0mCatTool\u001b[0m \u001b[1;33m=\u001b[0m \u001b[0mNewTool\u001b[0m \u001b[1;31m#value of CatTool is changed\u001b[0m\u001b[1;33m\u001b[0m\u001b[1;33m\u001b[0m\u001b[0m\n\u001b[0;32m    179\u001b[0m \u001b[1;33m\u001b[0m\u001b[0m\n",
      "\u001b[1;32m~\\OneDrive\\Documenten\\School\\PostgraduaatTranslationTechnology\\IntroductionToPython\\Final_Assignment1\\vendor_data.py\u001b[0m in \u001b[0;36mCheckCatTool\u001b[1;34m(CatTool)\u001b[0m\n\u001b[0;32m     85\u001b[0m         \u001b[1;32mraise\u001b[0m \u001b[0mTypeError\u001b[0m\u001b[1;33m(\u001b[0m\u001b[1;34m\"CatTool should be a string!\"\u001b[0m\u001b[1;33m)\u001b[0m\u001b[1;33m\u001b[0m\u001b[1;33m\u001b[0m\u001b[0m\n\u001b[0;32m     86\u001b[0m     \u001b[1;32mif\u001b[0m \u001b[1;32mnot\u001b[0m \u001b[0mCatTool\u001b[0m \u001b[1;32min\u001b[0m \u001b[1;33m[\u001b[0m\u001b[1;34m\"XTM\"\u001b[0m\u001b[1;33m,\u001b[0m \u001b[1;34m\"Trados Studio\"\u001b[0m\u001b[1;33m,\u001b[0m \u001b[1;34m\"MemoQ\"\u001b[0m\u001b[1;33m,\u001b[0m \u001b[1;34m\"Memsource\"\u001b[0m\u001b[1;33m]\u001b[0m\u001b[1;33m:\u001b[0m\u001b[1;33m\u001b[0m\u001b[1;33m\u001b[0m\u001b[0m\n\u001b[1;32m---> 87\u001b[1;33m             \u001b[1;32mraise\u001b[0m \u001b[0mValueError\u001b[0m\u001b[1;33m(\u001b[0m\u001b[1;34m\"This CAT tool is not valid. Run 'VendorData.CatTools' to check options.\"\u001b[0m\u001b[1;33m)\u001b[0m\u001b[1;33m\u001b[0m\u001b[1;33m\u001b[0m\u001b[0m\n\u001b[0m\u001b[0;32m     88\u001b[0m \u001b[1;33m\u001b[0m\u001b[0m\n\u001b[0;32m     89\u001b[0m \u001b[1;32mclass\u001b[0m \u001b[0mVendorData\u001b[0m\u001b[1;33m:\u001b[0m\u001b[1;33m\u001b[0m\u001b[1;33m\u001b[0m\u001b[0m\n",
      "\u001b[1;31mValueError\u001b[0m: This CAT tool is not valid. Run 'VendorData.CatTools' to check options."
     ]
    }
   ],
   "source": [
    "VendorDE.ChangeTool(\"SDL Trados Studio\")"
   ]
  },
  {
   "cell_type": "code",
   "execution_count": 48,
   "id": "2c570d8f",
   "metadata": {},
   "outputs": [
    {
     "ename": "TypeError",
     "evalue": "Preferred should either be True, False or None.",
     "output_type": "error",
     "traceback": [
      "\u001b[1;31m---------------------------------------------------------------------------\u001b[0m",
      "\u001b[1;31mTypeError\u001b[0m                                 Traceback (most recent call last)",
      "\u001b[1;32m~\\AppData\\Local\\Temp\\ipykernel_12116\\3389852500.py\u001b[0m in \u001b[0;36m<module>\u001b[1;34m\u001b[0m\n\u001b[1;32m----> 1\u001b[1;33m \u001b[0mVendorDE\u001b[0m\u001b[1;33m.\u001b[0m\u001b[0mSetStatus\u001b[0m\u001b[1;33m(\u001b[0m\u001b[1;34m\"None\"\u001b[0m\u001b[1;33m)\u001b[0m\u001b[1;33m\u001b[0m\u001b[1;33m\u001b[0m\u001b[0m\n\u001b[0m",
      "\u001b[1;32m~\\OneDrive\\Documenten\\School\\PostgraduaatTranslationTechnology\\IntroductionToPython\\Final_Assignment1\\vendor_data.py\u001b[0m in \u001b[0;36mSetStatus\u001b[1;34m(self, PrefVend)\u001b[0m\n\u001b[0;32m    186\u001b[0m         \u001b[1;32mif\u001b[0m \u001b[0mPrefVend\u001b[0m \u001b[1;33m!=\u001b[0m \u001b[1;32mNone\u001b[0m\u001b[1;33m:\u001b[0m\u001b[1;33m\u001b[0m\u001b[1;33m\u001b[0m\u001b[0m\n\u001b[0;32m    187\u001b[0m             \u001b[1;32mif\u001b[0m \u001b[0mtype\u001b[0m\u001b[1;33m(\u001b[0m\u001b[0mPrefVend\u001b[0m\u001b[1;33m)\u001b[0m \u001b[1;33m!=\u001b[0m \u001b[0mbool\u001b[0m\u001b[1;33m:\u001b[0m\u001b[1;33m\u001b[0m\u001b[1;33m\u001b[0m\u001b[0m\n\u001b[1;32m--> 188\u001b[1;33m                 \u001b[1;32mraise\u001b[0m \u001b[0mTypeError\u001b[0m\u001b[1;33m(\u001b[0m\u001b[1;34m\"Preferred should either be True, False or None.\"\u001b[0m\u001b[1;33m)\u001b[0m\u001b[1;33m\u001b[0m\u001b[1;33m\u001b[0m\u001b[0m\n\u001b[0m\u001b[0;32m    189\u001b[0m         \u001b[1;32mif\u001b[0m \u001b[0mPrefVend\u001b[0m \u001b[1;33m!=\u001b[0m \u001b[1;32mNone\u001b[0m\u001b[1;33m:\u001b[0m\u001b[1;33m\u001b[0m\u001b[1;33m\u001b[0m\u001b[0m\n\u001b[0;32m    190\u001b[0m             \u001b[1;32mif\u001b[0m \u001b[0mPrefVend\u001b[0m \u001b[1;33m==\u001b[0m \u001b[1;32mTrue\u001b[0m\u001b[1;33m:\u001b[0m\u001b[1;33m\u001b[0m\u001b[1;33m\u001b[0m\u001b[0m\n",
      "\u001b[1;31mTypeError\u001b[0m: Preferred should either be True, False or None."
     ]
    }
   ],
   "source": [
    "VendorDE.SetStatus(\"None\")"
   ]
  },
  {
   "cell_type": "markdown",
   "id": "0917609e",
   "metadata": {},
   "source": [
    "To illustrate that validation is done when running the `ModExcel` method, we first have to write the data to the excel file:"
   ]
  },
  {
   "cell_type": "code",
   "execution_count": 49,
   "id": "b9e3cd49",
   "metadata": {},
   "outputs": [],
   "source": [
    "VendorDE.ToExcel()"
   ]
  },
  {
   "cell_type": "markdown",
   "id": "288db7ca",
   "metadata": {},
   "source": [
    "Now we can modify the German vendor and the input will be validated:"
   ]
  },
  {
   "cell_type": "code",
   "execution_count": 50,
   "id": "f9d200e7",
   "metadata": {},
   "outputs": [
    {
     "ename": "ValueError",
     "evalue": "Please insert a valid email address.",
     "output_type": "error",
     "traceback": [
      "\u001b[1;31m---------------------------------------------------------------------------\u001b[0m",
      "\u001b[1;31mValueError\u001b[0m                                Traceback (most recent call last)",
      "\u001b[1;32m~\\AppData\\Local\\Temp\\ipykernel_12116\\1589300048.py\u001b[0m in \u001b[0;36m<module>\u001b[1;34m\u001b[0m\n\u001b[1;32m----> 1\u001b[1;33m \u001b[0mVendorDE\u001b[0m\u001b[1;33m.\u001b[0m\u001b[0mModExcel\u001b[0m\u001b[1;33m(\u001b[0m\u001b[1;34m\"E-mail\"\u001b[0m\u001b[1;33m,\u001b[0m \u001b[1;36m3\u001b[0m\u001b[1;33m,\u001b[0m \u001b[1;34m\"thomaszw@\"\u001b[0m\u001b[1;33m)\u001b[0m\u001b[1;33m\u001b[0m\u001b[1;33m\u001b[0m\u001b[0m\n\u001b[0m",
      "\u001b[1;32m~\\OneDrive\\Documenten\\School\\PostgraduaatTranslationTechnology\\IntroductionToPython\\Final_Assignment1\\vendor_data.py\u001b[0m in \u001b[0;36mModExcel\u001b[1;34m(self, Key, Index, NewValue)\u001b[0m\n\u001b[0;32m    246\u001b[0m                 \u001b[1;32mraise\u001b[0m \u001b[0mValueError\u001b[0m\u001b[1;33m(\u001b[0m\u001b[1;34m\"Invalid index, run 'self.ReadExcel()' to see options\"\u001b[0m\u001b[1;33m)\u001b[0m\u001b[1;33m\u001b[0m\u001b[1;33m\u001b[0m\u001b[0m\n\u001b[0;32m    247\u001b[0m             \u001b[1;32mif\u001b[0m \u001b[0mKey\u001b[0m \u001b[1;33m==\u001b[0m \u001b[1;34m\"E-mail\"\u001b[0m\u001b[1;33m:\u001b[0m \u001b[1;31m#validate e-mail address if a value for the key E-mail is modified\u001b[0m\u001b[1;33m\u001b[0m\u001b[1;33m\u001b[0m\u001b[0m\n\u001b[1;32m--> 248\u001b[1;33m                 \u001b[0mCheckVendorMail\u001b[0m\u001b[1;33m(\u001b[0m\u001b[0mNewValue\u001b[0m\u001b[1;33m)\u001b[0m\u001b[1;33m\u001b[0m\u001b[1;33m\u001b[0m\u001b[0m\n\u001b[0m\u001b[0;32m    249\u001b[0m             \u001b[1;32mif\u001b[0m \u001b[0mKey\u001b[0m \u001b[1;33m==\u001b[0m \u001b[1;34m\"Word Rate\"\u001b[0m\u001b[1;33m:\u001b[0m \u001b[1;31m#validate word rate if a value for the key Word Rate is modified\u001b[0m\u001b[1;33m\u001b[0m\u001b[1;33m\u001b[0m\u001b[0m\n\u001b[0;32m    250\u001b[0m                 \u001b[0mCheckWordRate\u001b[0m\u001b[1;33m(\u001b[0m\u001b[0mNewValue\u001b[0m\u001b[1;33m)\u001b[0m\u001b[1;33m\u001b[0m\u001b[1;33m\u001b[0m\u001b[0m\n",
      "\u001b[1;32m~\\OneDrive\\Documenten\\School\\PostgraduaatTranslationTechnology\\IntroductionToPython\\Final_Assignment1\\vendor_data.py\u001b[0m in \u001b[0;36mCheckVendorMail\u001b[1;34m(VendorMail)\u001b[0m\n\u001b[0;32m     54\u001b[0m         \u001b[1;32mraise\u001b[0m \u001b[0mTypeError\u001b[0m \u001b[1;33m(\u001b[0m\u001b[1;34m\"VendorMail should be a string!\"\u001b[0m\u001b[1;33m)\u001b[0m\u001b[1;33m\u001b[0m\u001b[1;33m\u001b[0m\u001b[0m\n\u001b[0;32m     55\u001b[0m     \u001b[1;32mif\u001b[0m \u001b[1;32mnot\u001b[0m\u001b[1;33m(\u001b[0m\u001b[0mre\u001b[0m\u001b[1;33m.\u001b[0m\u001b[0msearch\u001b[0m\u001b[1;33m(\u001b[0m\u001b[0mregex_mail\u001b[0m\u001b[1;33m,\u001b[0m\u001b[0mVendorMail\u001b[0m\u001b[1;33m)\u001b[0m\u001b[1;33m)\u001b[0m\u001b[1;33m:\u001b[0m\u001b[1;33m\u001b[0m\u001b[1;33m\u001b[0m\u001b[0m\n\u001b[1;32m---> 56\u001b[1;33m         \u001b[1;32mraise\u001b[0m \u001b[0mValueError\u001b[0m\u001b[1;33m(\u001b[0m\u001b[1;34m\"Please insert a valid email address.\"\u001b[0m\u001b[1;33m)\u001b[0m\u001b[1;33m\u001b[0m\u001b[1;33m\u001b[0m\u001b[0m\n\u001b[0m\u001b[0;32m     57\u001b[0m \u001b[1;32mdef\u001b[0m \u001b[0mCheckWordRate\u001b[0m\u001b[1;33m(\u001b[0m\u001b[0mWordRate\u001b[0m\u001b[1;33m)\u001b[0m\u001b[1;33m:\u001b[0m\u001b[1;33m\u001b[0m\u001b[1;33m\u001b[0m\u001b[0m\n\u001b[0;32m     58\u001b[0m     \"\"\"CheckWordRate, validate word rate\n",
      "\u001b[1;31mValueError\u001b[0m: Please insert a valid email address."
     ]
    }
   ],
   "source": [
    "VendorDE.ModExcel(\"E-mail\", 3, \"thomaszw@\")"
   ]
  },
  {
   "cell_type": "code",
   "execution_count": 51,
   "id": "3db36ec1",
   "metadata": {},
   "outputs": [
    {
     "ename": "ValueError",
     "evalue": "This CAT tool is not valid. Run 'VendorData.CatTools' to check options.",
     "output_type": "error",
     "traceback": [
      "\u001b[1;31m---------------------------------------------------------------------------\u001b[0m",
      "\u001b[1;31mValueError\u001b[0m                                Traceback (most recent call last)",
      "\u001b[1;32m~\\AppData\\Local\\Temp\\ipykernel_12116\\3469975144.py\u001b[0m in \u001b[0;36m<module>\u001b[1;34m\u001b[0m\n\u001b[1;32m----> 1\u001b[1;33m \u001b[0mVendorDE\u001b[0m\u001b[1;33m.\u001b[0m\u001b[0mModExcel\u001b[0m\u001b[1;33m(\u001b[0m\u001b[1;34m\"CAT Tool\"\u001b[0m\u001b[1;33m,\u001b[0m \u001b[1;36m3\u001b[0m\u001b[1;33m,\u001b[0m \u001b[1;34m\"Trados Studio 2019\"\u001b[0m\u001b[1;33m)\u001b[0m\u001b[1;33m\u001b[0m\u001b[1;33m\u001b[0m\u001b[0m\n\u001b[0m",
      "\u001b[1;32m~\\OneDrive\\Documenten\\School\\PostgraduaatTranslationTechnology\\IntroductionToPython\\Final_Assignment1\\vendor_data.py\u001b[0m in \u001b[0;36mModExcel\u001b[1;34m(self, Key, Index, NewValue)\u001b[0m\n\u001b[0;32m    250\u001b[0m                 \u001b[0mCheckWordRate\u001b[0m\u001b[1;33m(\u001b[0m\u001b[0mNewValue\u001b[0m\u001b[1;33m)\u001b[0m\u001b[1;33m\u001b[0m\u001b[1;33m\u001b[0m\u001b[0m\n\u001b[0;32m    251\u001b[0m             \u001b[1;32mif\u001b[0m \u001b[0mKey\u001b[0m \u001b[1;33m==\u001b[0m \u001b[1;34m\"CAT Tool\"\u001b[0m\u001b[1;33m:\u001b[0m \u001b[1;31m#validate CAT Tool if a value for the key CAT Tool is modified\u001b[0m\u001b[1;33m\u001b[0m\u001b[1;33m\u001b[0m\u001b[0m\n\u001b[1;32m--> 252\u001b[1;33m                 \u001b[0mCheckCatTool\u001b[0m\u001b[1;33m(\u001b[0m\u001b[0mNewValue\u001b[0m\u001b[1;33m)\u001b[0m\u001b[1;33m\u001b[0m\u001b[1;33m\u001b[0m\u001b[0m\n\u001b[0m\u001b[0;32m    253\u001b[0m             \u001b[1;32mif\u001b[0m \u001b[0mKey\u001b[0m \u001b[1;33m==\u001b[0m \u001b[1;34m\"Status\"\u001b[0m\u001b[1;33m:\u001b[0m \u001b[1;31m#validate Status if a value for the key Status is modified\u001b[0m\u001b[1;33m\u001b[0m\u001b[1;33m\u001b[0m\u001b[0m\n\u001b[0;32m    254\u001b[0m                 \u001b[1;32mif\u001b[0m \u001b[1;32mnot\u001b[0m \u001b[0mNewValue\u001b[0m \u001b[1;32min\u001b[0m \u001b[0mVendorData\u001b[0m\u001b[1;33m.\u001b[0m\u001b[0mStatuses\u001b[0m\u001b[1;33m:\u001b[0m\u001b[1;33m\u001b[0m\u001b[1;33m\u001b[0m\u001b[0m\n",
      "\u001b[1;32m~\\OneDrive\\Documenten\\School\\PostgraduaatTranslationTechnology\\IntroductionToPython\\Final_Assignment1\\vendor_data.py\u001b[0m in \u001b[0;36mCheckCatTool\u001b[1;34m(CatTool)\u001b[0m\n\u001b[0;32m     85\u001b[0m         \u001b[1;32mraise\u001b[0m \u001b[0mTypeError\u001b[0m\u001b[1;33m(\u001b[0m\u001b[1;34m\"CatTool should be a string!\"\u001b[0m\u001b[1;33m)\u001b[0m\u001b[1;33m\u001b[0m\u001b[1;33m\u001b[0m\u001b[0m\n\u001b[0;32m     86\u001b[0m     \u001b[1;32mif\u001b[0m \u001b[1;32mnot\u001b[0m \u001b[0mCatTool\u001b[0m \u001b[1;32min\u001b[0m \u001b[1;33m[\u001b[0m\u001b[1;34m\"XTM\"\u001b[0m\u001b[1;33m,\u001b[0m \u001b[1;34m\"Trados Studio\"\u001b[0m\u001b[1;33m,\u001b[0m \u001b[1;34m\"MemoQ\"\u001b[0m\u001b[1;33m,\u001b[0m \u001b[1;34m\"Memsource\"\u001b[0m\u001b[1;33m]\u001b[0m\u001b[1;33m:\u001b[0m\u001b[1;33m\u001b[0m\u001b[1;33m\u001b[0m\u001b[0m\n\u001b[1;32m---> 87\u001b[1;33m             \u001b[1;32mraise\u001b[0m \u001b[0mValueError\u001b[0m\u001b[1;33m(\u001b[0m\u001b[1;34m\"This CAT tool is not valid. Run 'VendorData.CatTools' to check options.\"\u001b[0m\u001b[1;33m)\u001b[0m\u001b[1;33m\u001b[0m\u001b[1;33m\u001b[0m\u001b[0m\n\u001b[0m\u001b[0;32m     88\u001b[0m \u001b[1;33m\u001b[0m\u001b[0m\n\u001b[0;32m     89\u001b[0m \u001b[1;32mclass\u001b[0m \u001b[0mVendorData\u001b[0m\u001b[1;33m:\u001b[0m\u001b[1;33m\u001b[0m\u001b[1;33m\u001b[0m\u001b[0m\n",
      "\u001b[1;31mValueError\u001b[0m: This CAT tool is not valid. Run 'VendorData.CatTools' to check options."
     ]
    }
   ],
   "source": [
    "VendorDE.ModExcel(\"CAT Tool\", 3, \"Trados Studio 2019\")"
   ]
  },
  {
   "cell_type": "code",
   "execution_count": 52,
   "id": "43492fbd",
   "metadata": {},
   "outputs": [
    {
     "ename": "ValueError",
     "evalue": "This vendor is too expensive, pick another one.",
     "output_type": "error",
     "traceback": [
      "\u001b[1;31m---------------------------------------------------------------------------\u001b[0m",
      "\u001b[1;31mValueError\u001b[0m                                Traceback (most recent call last)",
      "\u001b[1;32m~\\AppData\\Local\\Temp\\ipykernel_12116\\2651721014.py\u001b[0m in \u001b[0;36m<module>\u001b[1;34m\u001b[0m\n\u001b[1;32m----> 1\u001b[1;33m \u001b[0mVendorDE\u001b[0m\u001b[1;33m.\u001b[0m\u001b[0mModExcel\u001b[0m\u001b[1;33m(\u001b[0m\u001b[1;34m\"Word Rate\"\u001b[0m\u001b[1;33m,\u001b[0m \u001b[1;36m3\u001b[0m\u001b[1;33m,\u001b[0m \u001b[1;36m0.18\u001b[0m\u001b[1;33m)\u001b[0m\u001b[1;33m\u001b[0m\u001b[1;33m\u001b[0m\u001b[0m\n\u001b[0m",
      "\u001b[1;32m~\\OneDrive\\Documenten\\School\\PostgraduaatTranslationTechnology\\IntroductionToPython\\Final_Assignment1\\vendor_data.py\u001b[0m in \u001b[0;36mModExcel\u001b[1;34m(self, Key, Index, NewValue)\u001b[0m\n\u001b[0;32m    248\u001b[0m                 \u001b[0mCheckVendorMail\u001b[0m\u001b[1;33m(\u001b[0m\u001b[0mNewValue\u001b[0m\u001b[1;33m)\u001b[0m\u001b[1;33m\u001b[0m\u001b[1;33m\u001b[0m\u001b[0m\n\u001b[0;32m    249\u001b[0m             \u001b[1;32mif\u001b[0m \u001b[0mKey\u001b[0m \u001b[1;33m==\u001b[0m \u001b[1;34m\"Word Rate\"\u001b[0m\u001b[1;33m:\u001b[0m \u001b[1;31m#validate word rate if a value for the key Word Rate is modified\u001b[0m\u001b[1;33m\u001b[0m\u001b[1;33m\u001b[0m\u001b[0m\n\u001b[1;32m--> 250\u001b[1;33m                 \u001b[0mCheckWordRate\u001b[0m\u001b[1;33m(\u001b[0m\u001b[0mNewValue\u001b[0m\u001b[1;33m)\u001b[0m\u001b[1;33m\u001b[0m\u001b[1;33m\u001b[0m\u001b[0m\n\u001b[0m\u001b[0;32m    251\u001b[0m             \u001b[1;32mif\u001b[0m \u001b[0mKey\u001b[0m \u001b[1;33m==\u001b[0m \u001b[1;34m\"CAT Tool\"\u001b[0m\u001b[1;33m:\u001b[0m \u001b[1;31m#validate CAT Tool if a value for the key CAT Tool is modified\u001b[0m\u001b[1;33m\u001b[0m\u001b[1;33m\u001b[0m\u001b[0m\n\u001b[0;32m    252\u001b[0m                 \u001b[0mCheckCatTool\u001b[0m\u001b[1;33m(\u001b[0m\u001b[0mNewValue\u001b[0m\u001b[1;33m)\u001b[0m\u001b[1;33m\u001b[0m\u001b[1;33m\u001b[0m\u001b[0m\n",
      "\u001b[1;32m~\\OneDrive\\Documenten\\School\\PostgraduaatTranslationTechnology\\IntroductionToPython\\Final_Assignment1\\vendor_data.py\u001b[0m in \u001b[0;36mCheckWordRate\u001b[1;34m(WordRate)\u001b[0m\n\u001b[0;32m     69\u001b[0m         \u001b[1;32mraise\u001b[0m \u001b[0mTypeError\u001b[0m\u001b[1;33m(\u001b[0m\u001b[1;34m\"WordRate should be a float!\"\u001b[0m\u001b[1;33m)\u001b[0m\u001b[1;33m\u001b[0m\u001b[1;33m\u001b[0m\u001b[0m\n\u001b[0;32m     70\u001b[0m     \u001b[1;32mif\u001b[0m \u001b[0mWordRate\u001b[0m \u001b[1;33m>\u001b[0m \u001b[1;36m0.15\u001b[0m\u001b[1;33m:\u001b[0m\u001b[1;33m\u001b[0m\u001b[1;33m\u001b[0m\u001b[0m\n\u001b[1;32m---> 71\u001b[1;33m         \u001b[1;32mraise\u001b[0m \u001b[0mValueError\u001b[0m\u001b[1;33m(\u001b[0m\u001b[1;34m\"This vendor is too expensive, pick another one.\"\u001b[0m\u001b[1;33m)\u001b[0m\u001b[1;33m\u001b[0m\u001b[1;33m\u001b[0m\u001b[0m\n\u001b[0m\u001b[0;32m     72\u001b[0m     \u001b[1;32mif\u001b[0m \u001b[0mWordRate\u001b[0m \u001b[1;33m==\u001b[0m \u001b[1;36m0.00\u001b[0m\u001b[1;33m:\u001b[0m\u001b[1;33m\u001b[0m\u001b[1;33m\u001b[0m\u001b[0m\n\u001b[0;32m     73\u001b[0m         \u001b[1;32mraise\u001b[0m \u001b[0mValueError\u001b[0m\u001b[1;33m(\u001b[0m\u001b[1;34m\"Word rate cannot be 0.00.\"\u001b[0m\u001b[1;33m)\u001b[0m\u001b[1;33m\u001b[0m\u001b[1;33m\u001b[0m\u001b[0m\n",
      "\u001b[1;31mValueError\u001b[0m: This vendor is too expensive, pick another one."
     ]
    }
   ],
   "source": [
    "VendorDE.ModExcel(\"Word Rate\", 3, 0.18)"
   ]
  },
  {
   "cell_type": "code",
   "execution_count": 53,
   "id": "fcc7bf99",
   "metadata": {},
   "outputs": [
    {
     "ename": "ValueError",
     "evalue": "Invalid status, run 'VendorData.Statuses' to see options",
     "output_type": "error",
     "traceback": [
      "\u001b[1;31m---------------------------------------------------------------------------\u001b[0m",
      "\u001b[1;31mValueError\u001b[0m                                Traceback (most recent call last)",
      "\u001b[1;32m~\\AppData\\Local\\Temp\\ipykernel_12116\\3428613633.py\u001b[0m in \u001b[0;36m<module>\u001b[1;34m\u001b[0m\n\u001b[1;32m----> 1\u001b[1;33m \u001b[0mVendorDE\u001b[0m\u001b[1;33m.\u001b[0m\u001b[0mModExcel\u001b[0m\u001b[1;33m(\u001b[0m\u001b[1;34m\"Status\"\u001b[0m\u001b[1;33m,\u001b[0m \u001b[1;36m3\u001b[0m\u001b[1;33m,\u001b[0m \u001b[1;34m\"Busy\"\u001b[0m\u001b[1;33m)\u001b[0m\u001b[1;33m\u001b[0m\u001b[1;33m\u001b[0m\u001b[0m\n\u001b[0m",
      "\u001b[1;32m~\\OneDrive\\Documenten\\School\\PostgraduaatTranslationTechnology\\IntroductionToPython\\Final_Assignment1\\vendor_data.py\u001b[0m in \u001b[0;36mModExcel\u001b[1;34m(self, Key, Index, NewValue)\u001b[0m\n\u001b[0;32m    253\u001b[0m             \u001b[1;32mif\u001b[0m \u001b[0mKey\u001b[0m \u001b[1;33m==\u001b[0m \u001b[1;34m\"Status\"\u001b[0m\u001b[1;33m:\u001b[0m \u001b[1;31m#validate Status if a value for the key Status is modified\u001b[0m\u001b[1;33m\u001b[0m\u001b[1;33m\u001b[0m\u001b[0m\n\u001b[0;32m    254\u001b[0m                 \u001b[1;32mif\u001b[0m \u001b[1;32mnot\u001b[0m \u001b[0mNewValue\u001b[0m \u001b[1;32min\u001b[0m \u001b[0mVendorData\u001b[0m\u001b[1;33m.\u001b[0m\u001b[0mStatuses\u001b[0m\u001b[1;33m:\u001b[0m\u001b[1;33m\u001b[0m\u001b[1;33m\u001b[0m\u001b[0m\n\u001b[1;32m--> 255\u001b[1;33m                     \u001b[1;32mraise\u001b[0m \u001b[0mValueError\u001b[0m\u001b[1;33m(\u001b[0m\u001b[1;34m\"Invalid status, run 'VendorData.Statuses' to see options\"\u001b[0m\u001b[1;33m)\u001b[0m\u001b[1;33m\u001b[0m\u001b[1;33m\u001b[0m\u001b[0m\n\u001b[0m\u001b[0;32m    256\u001b[0m             \u001b[0mChangeDictionaryValue\u001b[0m\u001b[1;33m(\u001b[0m\u001b[0mVendorDict\u001b[0m\u001b[1;33m,\u001b[0m \u001b[0mKey\u001b[0m\u001b[1;33m,\u001b[0m \u001b[0mIndex\u001b[0m\u001b[1;33m,\u001b[0m \u001b[0mNewValue\u001b[0m\u001b[1;33m)\u001b[0m \u001b[1;31m#change the dictionary value in the dictionary `VendorDict` using the arguments provided for the method ModExcel\u001b[0m\u001b[1;33m\u001b[0m\u001b[1;33m\u001b[0m\u001b[0m\n\u001b[0;32m    257\u001b[0m             \u001b[0mdf\u001b[0m \u001b[1;33m=\u001b[0m \u001b[0mpd\u001b[0m\u001b[1;33m.\u001b[0m\u001b[0mDataFrame\u001b[0m\u001b[1;33m(\u001b[0m\u001b[0mVendorDict\u001b[0m\u001b[1;33m)\u001b[0m \u001b[1;31m#turn VendorDict dictionary back into a panda DataFrame\u001b[0m\u001b[1;33m\u001b[0m\u001b[1;33m\u001b[0m\u001b[0m\n",
      "\u001b[1;31mValueError\u001b[0m: Invalid status, run 'VendorData.Statuses' to see options"
     ]
    }
   ],
   "source": [
    "VendorDE.ModExcel(\"Status\", 3, \"Busy\")"
   ]
  },
  {
   "cell_type": "markdown",
   "id": "120be557",
   "metadata": {},
   "source": [
    "For the `ModExcel` method there's an additional validation, namely the validation of keys in order to limit the keys for which you can modify the values. Modifiable keys can be checked by running `vd.VendorData.Keys`\n",
    "Additionally it also is checked if the index is in the dictionary, otherwise the vendor is non-existent and cannot be modified."
   ]
  },
  {
   "cell_type": "code",
   "execution_count": 54,
   "id": "405573dd",
   "metadata": {},
   "outputs": [
    {
     "data": {
      "text/plain": [
       "['E-mail', 'CAT Tool', 'Word Rate', 'Status']"
      ]
     },
     "execution_count": 54,
     "metadata": {},
     "output_type": "execute_result"
    }
   ],
   "source": [
    "vd.VendorData.Keys"
   ]
  },
  {
   "cell_type": "markdown",
   "id": "94af9ebd",
   "metadata": {},
   "source": [
    "If you try to modify any other key you will get an error message:"
   ]
  },
  {
   "cell_type": "code",
   "execution_count": 55,
   "id": "e37f7571",
   "metadata": {},
   "outputs": [
    {
     "ename": "ValueError",
     "evalue": "Invalid key, run 'VendorData.Keys' to see options.",
     "output_type": "error",
     "traceback": [
      "\u001b[1;31m---------------------------------------------------------------------------\u001b[0m",
      "\u001b[1;31mValueError\u001b[0m                                Traceback (most recent call last)",
      "\u001b[1;32m~\\AppData\\Local\\Temp\\ipykernel_12116\\2634951232.py\u001b[0m in \u001b[0;36m<module>\u001b[1;34m\u001b[0m\n\u001b[1;32m----> 1\u001b[1;33m \u001b[0mVendorDE\u001b[0m\u001b[1;33m.\u001b[0m\u001b[0mModExcel\u001b[0m\u001b[1;33m(\u001b[0m\u001b[1;34m\"Vendor\"\u001b[0m\u001b[1;33m,\u001b[0m \u001b[1;36m2\u001b[0m\u001b[1;33m,\u001b[0m \u001b[1;34m\"John Doe\"\u001b[0m\u001b[1;33m)\u001b[0m\u001b[1;33m\u001b[0m\u001b[1;33m\u001b[0m\u001b[0m\n\u001b[0m",
      "\u001b[1;32m~\\OneDrive\\Documenten\\School\\PostgraduaatTranslationTechnology\\IntroductionToPython\\Final_Assignment1\\vendor_data.py\u001b[0m in \u001b[0;36mModExcel\u001b[1;34m(self, Key, Index, NewValue)\u001b[0m\n\u001b[0;32m    242\u001b[0m             \u001b[0mVendorDict\u001b[0m \u001b[1;33m=\u001b[0m \u001b[0mExcelRecordsDf\u001b[0m\u001b[1;33m.\u001b[0m\u001b[0mto_dict\u001b[0m\u001b[1;33m(\u001b[0m\u001b[1;33m)\u001b[0m\u001b[1;33m\u001b[0m\u001b[1;33m\u001b[0m\u001b[0m\n\u001b[0;32m    243\u001b[0m             \u001b[1;32mif\u001b[0m \u001b[1;32mnot\u001b[0m \u001b[0mKey\u001b[0m \u001b[1;32min\u001b[0m \u001b[0mself\u001b[0m\u001b[1;33m.\u001b[0m\u001b[0mKeys\u001b[0m\u001b[1;33m:\u001b[0m\u001b[1;33m\u001b[0m\u001b[1;33m\u001b[0m\u001b[0m\n\u001b[1;32m--> 244\u001b[1;33m                 \u001b[1;32mraise\u001b[0m \u001b[0mValueError\u001b[0m\u001b[1;33m(\u001b[0m\u001b[1;34m\"Invalid key, run 'VendorData.Keys' to see options.\"\u001b[0m\u001b[1;33m)\u001b[0m\u001b[1;33m\u001b[0m\u001b[1;33m\u001b[0m\u001b[0m\n\u001b[0m\u001b[0;32m    245\u001b[0m             \u001b[1;32mif\u001b[0m \u001b[1;32mnot\u001b[0m \u001b[0mIndex\u001b[0m \u001b[1;32min\u001b[0m \u001b[0mVendorDict\u001b[0m\u001b[1;33m[\u001b[0m\u001b[0mKey\u001b[0m\u001b[1;33m]\u001b[0m\u001b[1;33m:\u001b[0m\u001b[1;33m\u001b[0m\u001b[1;33m\u001b[0m\u001b[0m\n\u001b[0;32m    246\u001b[0m                 \u001b[1;32mraise\u001b[0m \u001b[0mValueError\u001b[0m\u001b[1;33m(\u001b[0m\u001b[1;34m\"Invalid index, run 'self.ReadExcel()' to see options\"\u001b[0m\u001b[1;33m)\u001b[0m\u001b[1;33m\u001b[0m\u001b[1;33m\u001b[0m\u001b[0m\n",
      "\u001b[1;31mValueError\u001b[0m: Invalid key, run 'VendorData.Keys' to see options."
     ]
    }
   ],
   "source": [
    "VendorDE.ModExcel(\"Vendor\", 2, \"John Doe\")"
   ]
  },
  {
   "cell_type": "code",
   "execution_count": 56,
   "id": "4a988964",
   "metadata": {},
   "outputs": [
    {
     "ename": "ValueError",
     "evalue": "Invalid key, run 'VendorData.Keys' to see options.",
     "output_type": "error",
     "traceback": [
      "\u001b[1;31m---------------------------------------------------------------------------\u001b[0m",
      "\u001b[1;31mValueError\u001b[0m                                Traceback (most recent call last)",
      "\u001b[1;32m~\\AppData\\Local\\Temp\\ipykernel_12116\\614258264.py\u001b[0m in \u001b[0;36m<module>\u001b[1;34m\u001b[0m\n\u001b[1;32m----> 1\u001b[1;33m \u001b[0mVendorDE\u001b[0m\u001b[1;33m.\u001b[0m\u001b[0mModExcel\u001b[0m\u001b[1;33m(\u001b[0m\u001b[1;34m\"Target Language\"\u001b[0m\u001b[1;33m,\u001b[0m \u001b[1;36m3\u001b[0m\u001b[1;33m,\u001b[0m \u001b[1;34m\"Croatian\"\u001b[0m\u001b[1;33m)\u001b[0m\u001b[1;33m\u001b[0m\u001b[1;33m\u001b[0m\u001b[0m\n\u001b[0m",
      "\u001b[1;32m~\\OneDrive\\Documenten\\School\\PostgraduaatTranslationTechnology\\IntroductionToPython\\Final_Assignment1\\vendor_data.py\u001b[0m in \u001b[0;36mModExcel\u001b[1;34m(self, Key, Index, NewValue)\u001b[0m\n\u001b[0;32m    242\u001b[0m             \u001b[0mVendorDict\u001b[0m \u001b[1;33m=\u001b[0m \u001b[0mExcelRecordsDf\u001b[0m\u001b[1;33m.\u001b[0m\u001b[0mto_dict\u001b[0m\u001b[1;33m(\u001b[0m\u001b[1;33m)\u001b[0m\u001b[1;33m\u001b[0m\u001b[1;33m\u001b[0m\u001b[0m\n\u001b[0;32m    243\u001b[0m             \u001b[1;32mif\u001b[0m \u001b[1;32mnot\u001b[0m \u001b[0mKey\u001b[0m \u001b[1;32min\u001b[0m \u001b[0mself\u001b[0m\u001b[1;33m.\u001b[0m\u001b[0mKeys\u001b[0m\u001b[1;33m:\u001b[0m\u001b[1;33m\u001b[0m\u001b[1;33m\u001b[0m\u001b[0m\n\u001b[1;32m--> 244\u001b[1;33m                 \u001b[1;32mraise\u001b[0m \u001b[0mValueError\u001b[0m\u001b[1;33m(\u001b[0m\u001b[1;34m\"Invalid key, run 'VendorData.Keys' to see options.\"\u001b[0m\u001b[1;33m)\u001b[0m\u001b[1;33m\u001b[0m\u001b[1;33m\u001b[0m\u001b[0m\n\u001b[0m\u001b[0;32m    245\u001b[0m             \u001b[1;32mif\u001b[0m \u001b[1;32mnot\u001b[0m \u001b[0mIndex\u001b[0m \u001b[1;32min\u001b[0m \u001b[0mVendorDict\u001b[0m\u001b[1;33m[\u001b[0m\u001b[0mKey\u001b[0m\u001b[1;33m]\u001b[0m\u001b[1;33m:\u001b[0m\u001b[1;33m\u001b[0m\u001b[1;33m\u001b[0m\u001b[0m\n\u001b[0;32m    246\u001b[0m                 \u001b[1;32mraise\u001b[0m \u001b[0mValueError\u001b[0m\u001b[1;33m(\u001b[0m\u001b[1;34m\"Invalid index, run 'self.ReadExcel()' to see options\"\u001b[0m\u001b[1;33m)\u001b[0m\u001b[1;33m\u001b[0m\u001b[1;33m\u001b[0m\u001b[0m\n",
      "\u001b[1;31mValueError\u001b[0m: Invalid key, run 'VendorData.Keys' to see options."
     ]
    }
   ],
   "source": [
    "VendorDE.ModExcel(\"Target Language\", 3, \"Croatian\")"
   ]
  },
  {
   "cell_type": "markdown",
   "id": "2eb97cae",
   "metadata": {},
   "source": [
    "Since there are only 4 vendors in the excel file and the index start at 0 and go up, an error message should appear when you try to modify a higher index:"
   ]
  },
  {
   "cell_type": "code",
   "execution_count": 57,
   "id": "66ca7b9e",
   "metadata": {},
   "outputs": [
    {
     "ename": "ValueError",
     "evalue": "Invalid index, run 'self.ReadExcel()' to see options",
     "output_type": "error",
     "traceback": [
      "\u001b[1;31m---------------------------------------------------------------------------\u001b[0m",
      "\u001b[1;31mValueError\u001b[0m                                Traceback (most recent call last)",
      "\u001b[1;32m~\\AppData\\Local\\Temp\\ipykernel_12116\\235551850.py\u001b[0m in \u001b[0;36m<module>\u001b[1;34m\u001b[0m\n\u001b[1;32m----> 1\u001b[1;33m \u001b[0mVendorDE\u001b[0m\u001b[1;33m.\u001b[0m\u001b[0mModExcel\u001b[0m\u001b[1;33m(\u001b[0m\u001b[1;34m\"CAT Tool\"\u001b[0m\u001b[1;33m,\u001b[0m \u001b[1;36m6\u001b[0m\u001b[1;33m,\u001b[0m \u001b[1;34m\"XTM\"\u001b[0m\u001b[1;33m)\u001b[0m\u001b[1;33m\u001b[0m\u001b[1;33m\u001b[0m\u001b[0m\n\u001b[0m",
      "\u001b[1;32m~\\OneDrive\\Documenten\\School\\PostgraduaatTranslationTechnology\\IntroductionToPython\\Final_Assignment1\\vendor_data.py\u001b[0m in \u001b[0;36mModExcel\u001b[1;34m(self, Key, Index, NewValue)\u001b[0m\n\u001b[0;32m    244\u001b[0m                 \u001b[1;32mraise\u001b[0m \u001b[0mValueError\u001b[0m\u001b[1;33m(\u001b[0m\u001b[1;34m\"Invalid key, run 'VendorData.Keys' to see options.\"\u001b[0m\u001b[1;33m)\u001b[0m\u001b[1;33m\u001b[0m\u001b[1;33m\u001b[0m\u001b[0m\n\u001b[0;32m    245\u001b[0m             \u001b[1;32mif\u001b[0m \u001b[1;32mnot\u001b[0m \u001b[0mIndex\u001b[0m \u001b[1;32min\u001b[0m \u001b[0mVendorDict\u001b[0m\u001b[1;33m[\u001b[0m\u001b[0mKey\u001b[0m\u001b[1;33m]\u001b[0m\u001b[1;33m:\u001b[0m\u001b[1;33m\u001b[0m\u001b[1;33m\u001b[0m\u001b[0m\n\u001b[1;32m--> 246\u001b[1;33m                 \u001b[1;32mraise\u001b[0m \u001b[0mValueError\u001b[0m\u001b[1;33m(\u001b[0m\u001b[1;34m\"Invalid index, run 'self.ReadExcel()' to see options\"\u001b[0m\u001b[1;33m)\u001b[0m\u001b[1;33m\u001b[0m\u001b[1;33m\u001b[0m\u001b[0m\n\u001b[0m\u001b[0;32m    247\u001b[0m             \u001b[1;32mif\u001b[0m \u001b[0mKey\u001b[0m \u001b[1;33m==\u001b[0m \u001b[1;34m\"E-mail\"\u001b[0m\u001b[1;33m:\u001b[0m \u001b[1;31m#validate e-mail address if a value for the key E-mail is modified\u001b[0m\u001b[1;33m\u001b[0m\u001b[1;33m\u001b[0m\u001b[0m\n\u001b[0;32m    248\u001b[0m                 \u001b[0mCheckVendorMail\u001b[0m\u001b[1;33m(\u001b[0m\u001b[0mNewValue\u001b[0m\u001b[1;33m)\u001b[0m\u001b[1;33m\u001b[0m\u001b[1;33m\u001b[0m\u001b[0m\n",
      "\u001b[1;31mValueError\u001b[0m: Invalid index, run 'self.ReadExcel()' to see options"
     ]
    }
   ],
   "source": [
    "VendorDE.ModExcel(\"CAT Tool\", 6, \"XTM\")"
   ]
  },
  {
   "cell_type": "markdown",
   "id": "092a40df",
   "metadata": {},
   "source": [
    "You can check for the right index by running the `ReadExcel` method for any vendor you already defined:"
   ]
  },
  {
   "cell_type": "code",
   "execution_count": 58,
   "id": "38b01366",
   "metadata": {},
   "outputs": [
    {
     "data": {
      "text/plain": [
       "{'Target Language': {0: 'Dutch', 1: 'French', 2: 'Spanish', 3: 'German'},\n",
       " 'Vendor': {0: 'Elmo Geeraerts',\n",
       "  1: 'Jean Lefèvre',\n",
       "  2: 'Emilio De La Banda',\n",
       "  3: 'Thomas Zwiebel'},\n",
       " 'E-mail': {0: nan,\n",
       "  1: 'j.lefevre@hotmail.com',\n",
       "  2: 'e.dlbanda@outlook.com',\n",
       "  3: nan},\n",
       " 'CAT Tool': {0: 'XTM', 1: 'Trados Studio', 2: 'MemoQ', 3: 'XTM'},\n",
       " 'Word Rate': {0: 0.08, 1: 0.1, 2: 0.09, 3: nan},\n",
       " 'Status': {0: 'Potential', 1: 'Back-up', 2: 'Back-up', 3: 'Potential'}}"
      ]
     },
     "execution_count": 58,
     "metadata": {},
     "output_type": "execute_result"
    }
   ],
   "source": [
    "VendorNL.ReadExcel()"
   ]
  },
  {
   "cell_type": "markdown",
   "id": "a1f29b57",
   "metadata": {},
   "source": [
    "Now you know the different functionalities of the script vendor__data.py and what triggers which error. Hopefully you can use this script in your daily life as a translation project manager. Have fun!"
   ]
  },
  {
   "cell_type": "markdown",
   "id": "03b81e7c",
   "metadata": {},
   "source": [
    "## Running `vendor_data.py`\n",
    "The script can also be run on its own. We'll first look at the help for this script."
   ]
  },
  {
   "cell_type": "code",
   "execution_count": 59,
   "id": "1ac6c1de",
   "metadata": {},
   "outputs": [
    {
     "name": "stdout",
     "output_type": "stream",
     "text": [
      "usage: vendor_data.py [-h] [-a] [-m]\n",
      "\n",
      "optional arguments:\n",
      "  -h, --help    show this help message and exit\n",
      "  -a, --add     Add a vendor\n",
      "  -m, --modify  Modify an existing vendor\n"
     ]
    }
   ],
   "source": [
    "%run vendor_data.py --help"
   ]
  },
  {
   "cell_type": "markdown",
   "id": "cc95becc",
   "metadata": {},
   "source": [
    "As you can see, apart from the help argument, there are two other optional arguments:\n",
    "- `-a` or `--add` allows the user to add a new vendor to an excel file (existing or new);\n",
    "- `-m` or `--modify` allows the user to modify a vendor in an existing excel file;\n",
    "\n",
    "We'll start by writing a totally new excel file and adding a vendor to it:"
   ]
  },
  {
   "cell_type": "code",
   "execution_count": 60,
   "id": "a32de96d",
   "metadata": {},
   "outputs": [
    {
     "name": "stdout",
     "output_type": "stream",
     "text": [
      "What is the project name? TestProject\n",
      "What is the source language? English\n",
      "What's the vendor's name? Elmo Geeraerts\n",
      "Into which language will the vendor translate? Dutch\n",
      "What is the vendor's email address? geeraerts@me.com\n",
      "What is the vendor's word rate in EUR? Should be between 0.01 and 0.15. If higher, choose another vendor. 0.12\n",
      "In which tool will the vendor be working?* XTM\n",
      "* Trados Studio\n",
      "* MemoQ\n",
      "* Memsource\n",
      "\n",
      "True or False: Is this vendor a preferred vendor? If neither, leave blank. True\n",
      "Are you done? yes\n",
      "Do you want to add this vendor to the excel file? yes\n"
     ]
    }
   ],
   "source": [
    "%run vendor_data.py --a"
   ]
  },
  {
   "cell_type": "markdown",
   "id": "61141753",
   "metadata": {},
   "source": [
    "A new excel file will appear next to where you stored this notebook with the name `TestProject_English`, i.e. the project name and source language we provided.\n",
    "Just like when importing the script, it is possible to leave the following data blank:\n",
    "- The vendor's email address\n",
    "- The vendors word rate\n",
    "- The tool in which the vendor will be working\n",
    "- Whether or not the vendor is a preferred vendor"
   ]
  },
  {
   "cell_type": "code",
   "execution_count": 61,
   "id": "8f91cd3a",
   "metadata": {},
   "outputs": [
    {
     "name": "stdout",
     "output_type": "stream",
     "text": [
      "What is the project name? TestProject\n",
      "What is the source language? English\n",
      "What's the vendor's name? Jean Baptiste\n",
      "Into which language will the vendor translate? French\n",
      "What is the vendor's email address? \n",
      "What is the vendor's word rate in EUR? Should be between 0.01 and 0.15. If higher, choose another vendor. \n",
      "In which tool will the vendor be working?* XTM\n",
      "* Trados Studio\n",
      "* MemoQ\n",
      "* Memsource\n",
      "\n",
      "True or False: Is this vendor a preferred vendor? If neither, leave blank. \n",
      "Are you done? \n",
      "Blank values are not allowed.\n",
      "Are you done? yes\n",
      "Do you want to add this vendor to the excel file? yes\n"
     ]
    }
   ],
   "source": [
    "%run vendor_data.py --a"
   ]
  },
  {
   "cell_type": "markdown",
   "id": "d652047e",
   "metadata": {},
   "source": [
    "If the project name and the source language are the same as for the previous vendor you've entered, this vendor will be added to the same excel file, if not a new excel file is created using the project name and the source language as the file name. You'll notice that for the prompts you leave blank the default value is enterred OR it is left blank.\n",
    "\n",
    "Just like when you use this script as a module, the data you provide is validate at every step of the user interaction. TypeErrors do not cause the prompts to stop but instead you get asked the same question again, ValueErrors do break off the code:"
   ]
  },
  {
   "cell_type": "code",
   "execution_count": 62,
   "id": "7c4e5ac4",
   "metadata": {},
   "outputs": [
    {
     "name": "stdout",
     "output_type": "stream",
     "text": [
      "What is the project name? TestProject\n",
      "What is the source language? English\n",
      "What's the vendor's name? Emanuel Dos Santos\n",
      "Into which language will the vendor translate? Portuguese\n",
      "What is the vendor's email address? e_dossantos@gmail.com\n",
      "What is the vendor's word rate in EUR? Should be between 0.01 and 0.15. If higher, choose another vendor. 0.19\n"
     ]
    },
    {
     "ename": "ValueError",
     "evalue": "This vendor is too expensive, pick another one.",
     "output_type": "error",
     "traceback": [
      "\u001b[1;31m---------------------------------------------------------------------------\u001b[0m",
      "\u001b[1;31mValueError\u001b[0m                                Traceback (most recent call last)",
      "\u001b[1;32m~\\OneDrive\\Documenten\\School\\PostgraduaatTranslationTechnology\\IntroductionToPython\\Final_Assignment1\\vendor_data.py\u001b[0m in \u001b[0;36m<module>\u001b[1;34m\u001b[0m\n\u001b[0;32m    304\u001b[0m             \u001b[0mNewWordRate\u001b[0m \u001b[1;33m=\u001b[0m \u001b[0mpyip\u001b[0m\u001b[1;33m.\u001b[0m\u001b[0minputFloat\u001b[0m\u001b[1;33m(\u001b[0m\u001b[1;34m\"What is the vendor's word rate in EUR? Should be between 0.01 and 0.15. If higher, choose another vendor. \"\u001b[0m\u001b[1;33m,\u001b[0m \u001b[0mblank\u001b[0m \u001b[1;33m=\u001b[0m \u001b[1;32mTrue\u001b[0m\u001b[1;33m)\u001b[0m\u001b[1;33m\u001b[0m\u001b[1;33m\u001b[0m\u001b[0m\n\u001b[0;32m    305\u001b[0m             \u001b[1;32mif\u001b[0m \u001b[0mNewWordRate\u001b[0m\u001b[1;33m:\u001b[0m\u001b[1;33m\u001b[0m\u001b[1;33m\u001b[0m\u001b[0m\n\u001b[1;32m--> 306\u001b[1;33m                 \u001b[0mCheckWordRate\u001b[0m\u001b[1;33m(\u001b[0m\u001b[0mNewWordRate\u001b[0m\u001b[1;33m)\u001b[0m\u001b[1;33m\u001b[0m\u001b[1;33m\u001b[0m\u001b[0m\n\u001b[0m\u001b[0;32m    307\u001b[0m                 \u001b[0mVendorWordRate\u001b[0m \u001b[1;33m=\u001b[0m \u001b[0mNewWordRate\u001b[0m\u001b[1;33m\u001b[0m\u001b[1;33m\u001b[0m\u001b[0m\n\u001b[0;32m    308\u001b[0m             \u001b[1;32melse\u001b[0m\u001b[1;33m:\u001b[0m\u001b[1;33m\u001b[0m\u001b[1;33m\u001b[0m\u001b[0m\n",
      "\u001b[1;32m~\\OneDrive\\Documenten\\School\\PostgraduaatTranslationTechnology\\IntroductionToPython\\Final_Assignment1\\vendor_data.py\u001b[0m in \u001b[0;36mCheckWordRate\u001b[1;34m(WordRate)\u001b[0m\n\u001b[0;32m     69\u001b[0m         \u001b[1;32mraise\u001b[0m \u001b[0mTypeError\u001b[0m\u001b[1;33m(\u001b[0m\u001b[1;34m\"WordRate should be a float!\"\u001b[0m\u001b[1;33m)\u001b[0m\u001b[1;33m\u001b[0m\u001b[1;33m\u001b[0m\u001b[0m\n\u001b[0;32m     70\u001b[0m     \u001b[1;32mif\u001b[0m \u001b[0mWordRate\u001b[0m \u001b[1;33m>\u001b[0m \u001b[1;36m0.15\u001b[0m\u001b[1;33m:\u001b[0m\u001b[1;33m\u001b[0m\u001b[1;33m\u001b[0m\u001b[0m\n\u001b[1;32m---> 71\u001b[1;33m         \u001b[1;32mraise\u001b[0m \u001b[0mValueError\u001b[0m\u001b[1;33m(\u001b[0m\u001b[1;34m\"This vendor is too expensive, pick another one.\"\u001b[0m\u001b[1;33m)\u001b[0m\u001b[1;33m\u001b[0m\u001b[1;33m\u001b[0m\u001b[0m\n\u001b[0m\u001b[0;32m     72\u001b[0m     \u001b[1;32mif\u001b[0m \u001b[0mWordRate\u001b[0m \u001b[1;33m==\u001b[0m \u001b[1;36m0.00\u001b[0m\u001b[1;33m:\u001b[0m\u001b[1;33m\u001b[0m\u001b[1;33m\u001b[0m\u001b[0m\n\u001b[0;32m     73\u001b[0m         \u001b[1;32mraise\u001b[0m \u001b[0mValueError\u001b[0m\u001b[1;33m(\u001b[0m\u001b[1;34m\"Word rate cannot be 0.00.\"\u001b[0m\u001b[1;33m)\u001b[0m\u001b[1;33m\u001b[0m\u001b[1;33m\u001b[0m\u001b[0m\n",
      "\u001b[1;31mValueError\u001b[0m: This vendor is too expensive, pick another one."
     ]
    }
   ],
   "source": [
    "%run vendor_data.py -a"
   ]
  },
  {
   "cell_type": "code",
   "execution_count": 63,
   "id": "ec294039",
   "metadata": {},
   "outputs": [
    {
     "name": "stdout",
     "output_type": "stream",
     "text": [
      "What is the project name? TestProject\n",
      "What is the source language? English\n",
      "What's the vendor's name? Emanuel Dos Santos\n",
      "Into which language will the vendor translate? Portuguese\n",
      "What is the vendor's email address? e_dossantos@\n"
     ]
    },
    {
     "ename": "ValueError",
     "evalue": "Please insert a valid email address.",
     "output_type": "error",
     "traceback": [
      "\u001b[1;31m---------------------------------------------------------------------------\u001b[0m",
      "\u001b[1;31mValueError\u001b[0m                                Traceback (most recent call last)",
      "\u001b[1;32m~\\OneDrive\\Documenten\\School\\PostgraduaatTranslationTechnology\\IntroductionToPython\\Final_Assignment1\\vendor_data.py\u001b[0m in \u001b[0;36m<module>\u001b[1;34m\u001b[0m\n\u001b[0;32m    298\u001b[0m             \u001b[0mNewVendorMail\u001b[0m \u001b[1;33m=\u001b[0m \u001b[0mpyip\u001b[0m\u001b[1;33m.\u001b[0m\u001b[0minputStr\u001b[0m\u001b[1;33m(\u001b[0m\u001b[1;34m\"What is the vendor's email address? \"\u001b[0m\u001b[1;33m,\u001b[0m \u001b[0mblank\u001b[0m \u001b[1;33m=\u001b[0m \u001b[1;32mTrue\u001b[0m\u001b[1;33m,\u001b[0m \u001b[0mdefault\u001b[0m\u001b[1;33m=\u001b[0m\u001b[1;34m\"\"\u001b[0m\u001b[1;33m)\u001b[0m\u001b[1;33m\u001b[0m\u001b[1;33m\u001b[0m\u001b[0m\n\u001b[0;32m    299\u001b[0m             \u001b[1;32mif\u001b[0m \u001b[0mNewVendorMail\u001b[0m\u001b[1;33m:\u001b[0m\u001b[1;33m\u001b[0m\u001b[1;33m\u001b[0m\u001b[0m\n\u001b[1;32m--> 300\u001b[1;33m                 \u001b[0mCheckVendorMail\u001b[0m\u001b[1;33m(\u001b[0m\u001b[0mNewVendorMail\u001b[0m\u001b[1;33m)\u001b[0m\u001b[1;33m\u001b[0m\u001b[1;33m\u001b[0m\u001b[0m\n\u001b[0m\u001b[0;32m    301\u001b[0m                 \u001b[0mVendorMail\u001b[0m \u001b[1;33m=\u001b[0m \u001b[0mNewVendorMail\u001b[0m\u001b[1;33m\u001b[0m\u001b[1;33m\u001b[0m\u001b[0m\n\u001b[0;32m    302\u001b[0m             \u001b[1;32melse\u001b[0m\u001b[1;33m:\u001b[0m\u001b[1;33m\u001b[0m\u001b[1;33m\u001b[0m\u001b[0m\n",
      "\u001b[1;32m~\\OneDrive\\Documenten\\School\\PostgraduaatTranslationTechnology\\IntroductionToPython\\Final_Assignment1\\vendor_data.py\u001b[0m in \u001b[0;36mCheckVendorMail\u001b[1;34m(VendorMail)\u001b[0m\n\u001b[0;32m     54\u001b[0m         \u001b[1;32mraise\u001b[0m \u001b[0mTypeError\u001b[0m \u001b[1;33m(\u001b[0m\u001b[1;34m\"VendorMail should be a string!\"\u001b[0m\u001b[1;33m)\u001b[0m\u001b[1;33m\u001b[0m\u001b[1;33m\u001b[0m\u001b[0m\n\u001b[0;32m     55\u001b[0m     \u001b[1;32mif\u001b[0m \u001b[1;32mnot\u001b[0m\u001b[1;33m(\u001b[0m\u001b[0mre\u001b[0m\u001b[1;33m.\u001b[0m\u001b[0msearch\u001b[0m\u001b[1;33m(\u001b[0m\u001b[0mregex_mail\u001b[0m\u001b[1;33m,\u001b[0m\u001b[0mVendorMail\u001b[0m\u001b[1;33m)\u001b[0m\u001b[1;33m)\u001b[0m\u001b[1;33m:\u001b[0m\u001b[1;33m\u001b[0m\u001b[1;33m\u001b[0m\u001b[0m\n\u001b[1;32m---> 56\u001b[1;33m         \u001b[1;32mraise\u001b[0m \u001b[0mValueError\u001b[0m\u001b[1;33m(\u001b[0m\u001b[1;34m\"Please insert a valid email address.\"\u001b[0m\u001b[1;33m)\u001b[0m\u001b[1;33m\u001b[0m\u001b[1;33m\u001b[0m\u001b[0m\n\u001b[0m\u001b[0;32m     57\u001b[0m \u001b[1;32mdef\u001b[0m \u001b[0mCheckWordRate\u001b[0m\u001b[1;33m(\u001b[0m\u001b[0mWordRate\u001b[0m\u001b[1;33m)\u001b[0m\u001b[1;33m:\u001b[0m\u001b[1;33m\u001b[0m\u001b[1;33m\u001b[0m\u001b[0m\n\u001b[0;32m     58\u001b[0m     \"\"\"CheckWordRate, validate word rate\n",
      "\u001b[1;31mValueError\u001b[0m: Please insert a valid email address."
     ]
    }
   ],
   "source": [
    "%run vendor_data.py -a"
   ]
  },
  {
   "cell_type": "markdown",
   "id": "df0dca70",
   "metadata": {},
   "source": [
    "Since we're using pyipinputplus we can already avoid some errors by:\n",
    "- using the built in type validation of the package by using `pyip.inputStr` or `pyip.inputFloat`, so that the user is forced to put in a valid data type\n",
    "- using the Menu option to limit the choices, for example for the CAT Tools\n",
    "\n",
    "It is also possible to modify existing vendors. The user has to provide the project name and the source language, and is then further asked some questions regarding the vendor they want to modify:"
   ]
  },
  {
   "cell_type": "code",
   "execution_count": 64,
   "id": "54012864",
   "metadata": {},
   "outputs": [
    {
     "name": "stdout",
     "output_type": "stream",
     "text": [
      "What is the name of the project that the vendor you want to modify works on? TestProject\n",
      "What is the source language? English\n",
      "These are the vendor's already in the database: \n",
      "0: Elmo Geeraerts\n",
      "1: Jean Baptiste\n",
      "Enter the index of the vendor you want to modify: 0\n",
      "What is the vendor's e-mail? \n",
      "What is the vendor's word rate? Should be between 0.01 and 0.15. If higher, choose another vendor. \n",
      "In which tool will the vendor be working?* XTM\n",
      "* Trados Studio\n",
      "* MemoQ\n",
      "* Memsource\n",
      "Trados Studio\n",
      "What is the vendor's new status? * Preferred\n",
      "* Back-up\n",
      "* Potential\n",
      "\n",
      "Are you done? yes\n",
      "This vendor is modified correctly.\n"
     ]
    }
   ],
   "source": [
    "%run vendor_data.py -m"
   ]
  },
  {
   "cell_type": "markdown",
   "id": "cce96942",
   "metadata": {},
   "source": [
    "The vendor in the excel file should now be modified.\n",
    "\n",
    "Now you are totally ready to use this script and resolve any issues that might pop up! Hopefully this script makes your life as a translation project manager easier! Have fun!"
   ]
  }
 ],
 "metadata": {
  "kernelspec": {
   "display_name": "Python 3 (ipykernel)",
   "language": "python",
   "name": "python3"
  },
  "language_info": {
   "codemirror_mode": {
    "name": "ipython",
    "version": 3
   },
   "file_extension": ".py",
   "mimetype": "text/x-python",
   "name": "python",
   "nbconvert_exporter": "python",
   "pygments_lexer": "ipython3",
   "version": "3.9.13"
  }
 },
 "nbformat": 4,
 "nbformat_minor": 5
}
