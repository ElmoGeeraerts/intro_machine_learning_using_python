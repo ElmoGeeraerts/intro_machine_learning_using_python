{
 "cells": [
  {
   "cell_type": "markdown",
   "id": "b251afbe",
   "metadata": {},
   "source": [
    "# Tutorial: how to use `vendor_data.py`\n",
    "\n",
    "This interactive notebook shows how to use the class and the different functions in the script `vendor_data.py`.\n",
    "\n",
    "To use the script in this code, we can import the script as a module or run it directly.\n",
    "We'll begin with importing the code:"
   ]
  },
  {
   "cell_type": "code",
   "execution_count": null,
   "id": "b3611132",
   "metadata": {},
   "outputs": [],
   "source": [
    "import sys\n",
    "sys.path.append ('vendor_data.py') #this is the relative path to the script. If the script is not directly next to the notebook, it could be better to copy the full path of the notebook.\n",
    "import vendor_data as vd # 'as vd' is not necessary but makes it shorter."
   ]
  },
  {
   "cell_type": "markdown",
   "id": "fa2cf4f7",
   "metadata": {},
   "source": [
    "## Docstrings\n",
    "The script is completely documented with docstrings in order to ensure that the script is correclty used.\n",
    "You can read these docstrings by calling one of the following functions:"
   ]
  },
  {
   "cell_type": "code",
   "execution_count": null,
   "id": "ade0148e",
   "metadata": {},
   "outputs": [],
   "source": [
    "help(vd)"
   ]
  },
  {
   "cell_type": "code",
   "execution_count": null,
   "id": "d6fb22b9",
   "metadata": {},
   "outputs": [],
   "source": [
    "?vd"
   ]
  },
  {
   "cell_type": "code",
   "execution_count": null,
   "id": "803ee5b0",
   "metadata": {},
   "outputs": [],
   "source": [
    "vd.__doc__"
   ]
  },
  {
   "cell_type": "markdown",
   "id": "b9df49cf",
   "metadata": {},
   "source": [
    "## Instantiating an instance of VendorData\n",
    "Now that we know the different fucntionalities we can instantiate an instance of the class VendorData.\n",
    "To illustrate the code to it's full extent, we'll instantiate a couple of them:"
   ]
  },
  {
   "cell_type": "code",
   "execution_count": null,
   "id": "4ab17746",
   "metadata": {},
   "outputs": [],
   "source": [
    "VendorNL = vd.VendorData(\"Tutorial\", \"English\", \"Dutch\", \"Elmo Geeraerts\") #An instance with only the positional arguments provided\n",
    "VendorFR = vd.VendorData(\"Tutorial\", \"English\", \"French\", \"Jean Lefèvre\", \"j.lefevre@hotmail.com\", 0.10, \"Trados Studio\", True) #An instance with all the arguments provided\n",
    "VendorES = vd.VendorData(\"Tutorial\", \"English\", \"Spanish\", \"Emilio De La Banda\", WordRate = 0.09, Preferred = False) #An instance with some of the optional arguments"
   ]
  },
  {
   "cell_type": "markdown",
   "id": "4c856f67",
   "metadata": {},
   "source": [
    "We can check the values of the arguments for the three vendors as follows:"
   ]
  },
  {
   "cell_type": "code",
   "execution_count": null,
   "id": "c6675ef0",
   "metadata": {},
   "outputs": [],
   "source": [
    "VendorNL.VendorName"
   ]
  },
  {
   "cell_type": "code",
   "execution_count": null,
   "id": "23b52971",
   "metadata": {},
   "outputs": [],
   "source": [
    "VendorFR.VendorMail"
   ]
  },
  {
   "cell_type": "code",
   "execution_count": null,
   "id": "69659b86",
   "metadata": {},
   "outputs": [],
   "source": [
    "VendorES.WordRate"
   ]
  },
  {
   "cell_type": "markdown",
   "id": "a831785f",
   "metadata": {},
   "source": [
    "Some arguments had default arguments. When we check the e-mail for VendorNL, for which we didn't provide one, we'll see that it does not return anything:"
   ]
  },
  {
   "cell_type": "code",
   "execution_count": null,
   "id": "cb2ca64c",
   "metadata": {},
   "outputs": [],
   "source": [
    "VendorNL.VendorMail"
   ]
  },
  {
   "cell_type": "markdown",
   "id": "5254d93d",
   "metadata": {},
   "source": [
    "When we check the CAT tool for the Spanish vendor, we'll get \"XTM\". We did not provide any argument, but in the class it is set to default since that is the main CAT tool used in the particular agency. This can be changed in the actual code."
   ]
  },
  {
   "cell_type": "code",
   "execution_count": null,
   "id": "c7180a19",
   "metadata": {},
   "outputs": [],
   "source": [
    "VendorES.CatTool"
   ]
  },
  {
   "cell_type": "markdown",
   "id": "fc86e138",
   "metadata": {},
   "source": [
    "The value for the argument Preferred can be True, False or None. This has an influence of the vendor's status.\n",
    "If Preferred is True, the vendor gets the status Preferred. If it is False, the vendor gets the status Back-up. If it is None, the vendor gets the status Potential."
   ]
  },
  {
   "cell_type": "code",
   "execution_count": null,
   "id": "e26d1539",
   "metadata": {},
   "outputs": [],
   "source": [
    "VendorFR.Preferred"
   ]
  },
  {
   "cell_type": "code",
   "execution_count": null,
   "id": "935c0a38",
   "metadata": {},
   "outputs": [],
   "source": [
    "VendorFR.Status"
   ]
  },
  {
   "cell_type": "code",
   "execution_count": null,
   "id": "9ebc7f07",
   "metadata": {},
   "outputs": [],
   "source": [
    "VendorES.Preferred"
   ]
  },
  {
   "cell_type": "code",
   "execution_count": null,
   "id": "1158b1de",
   "metadata": {},
   "outputs": [],
   "source": [
    "VendorES.Status"
   ]
  },
  {
   "cell_type": "code",
   "execution_count": null,
   "id": "ab5e5f54",
   "metadata": {},
   "outputs": [],
   "source": [
    "VendorNL.Preferred #Will not return anything since value is None"
   ]
  },
  {
   "cell_type": "code",
   "execution_count": null,
   "id": "50cd8967",
   "metadata": {},
   "outputs": [],
   "source": [
    "VendorNL.Status"
   ]
  },
  {
   "cell_type": "markdown",
   "id": "47936f2c",
   "metadata": {},
   "source": [
    "## Functions\n",
    "The class also contains a couple of functions:\n",
    "- `SetVendorMail` to set an e-mail address for a specific vendor\n",
    "- `SetWordRate` to add a word rate in EUR/word for a specific vendor\n",
    "- `ChangeTool` to change the preferred CAT tool\n",
    "- `SetStatus` to change the vendor's status\n",
    "- `ToExcel` to write the data to an excel file\n",
    "- `ReadExcel` to print the data in the excel file to a dictionary, if the excel file exists\n",
    "- `ModExcel` to modify certain values for a vendor in the excel file, if the excel file exists\n",
    "\n",
    "We did not provide an e-mail for the Spanish vendor so we'll start with that:"
   ]
  },
  {
   "cell_type": "code",
   "execution_count": null,
   "id": "90cb5c10",
   "metadata": {},
   "outputs": [],
   "source": [
    "VendorES.SetVendorMail(\"e.dlbanda@outlook.com\")\n",
    "VendorES.VendorMail"
   ]
  },
  {
   "cell_type": "markdown",
   "id": "f9d73186",
   "metadata": {},
   "source": [
    "We did not set a word rate for the Dutch vendor, so now we can add one:"
   ]
  },
  {
   "cell_type": "code",
   "execution_count": null,
   "id": "730b35ca",
   "metadata": {},
   "outputs": [],
   "source": [
    "VendorNL.SetWordRate(0.08)\n",
    "VendorNL.WordRate"
   ]
  },
  {
   "cell_type": "markdown",
   "id": "006d6aa9",
   "metadata": {},
   "source": [
    "Say, we did not yet know which CAT Tool the Spanish Vendor was going to use, but now we know that they will use Trados Studio. First it was set to 'XTM', we can change this as follows:"
   ]
  },
  {
   "cell_type": "code",
   "execution_count": null,
   "id": "391e7c5d",
   "metadata": {},
   "outputs": [],
   "source": [
    "VendorES.ChangeTool(\"Trados Studio\")\n",
    "VendorES.CatTool"
   ]
  },
  {
   "cell_type": "markdown",
   "id": "574ef338",
   "metadata": {},
   "source": [
    "Because we sat the value for preferred to True for the French vendor, they got the status \"Preferred\". If for some reason this changes, we can change the status easily, by changing the value for Preferred to False or None:"
   ]
  },
  {
   "cell_type": "code",
   "execution_count": null,
   "id": "96819356",
   "metadata": {},
   "outputs": [],
   "source": [
    "VendorFR.SetStatus(False)\n",
    "VendorFR.Preferred"
   ]
  },
  {
   "cell_type": "code",
   "execution_count": null,
   "id": "e8335217",
   "metadata": {},
   "outputs": [],
   "source": [
    "VendorFR.Status"
   ]
  },
  {
   "cell_type": "markdown",
   "id": "0bf8e1d0",
   "metadata": {},
   "source": [
    "We can now write the data for the vendors to an excel file. Since every vendor has the value for the argument `ProjectName` and `SourceLang`, they will be written to the same excel file. We should execute this function for every vendor. Be careful because if you run this function multiple times for the same vendor, it will not overwrite but append and you will have duplicates in the excel file."
   ]
  },
  {
   "cell_type": "code",
   "execution_count": null,
   "id": "aeafcb32",
   "metadata": {},
   "outputs": [],
   "source": [
    "VendorNL.ToExcel()\n",
    "VendorFR.ToExcel()\n",
    "VendorES.ToExcel()"
   ]
  },
  {
   "cell_type": "markdown",
   "id": "8ec6866a",
   "metadata": {},
   "source": [
    "An excel file named `Tutorial_English.xlsx` should appear in the same folder where you stored this tutorial notebook.\n",
    "We can now read the entire excel file by calling the function ReadExcel for any vendor in the excel file. We'll get the information for every vendor in the excel file, no matter what vendor we pick:"
   ]
  },
  {
   "cell_type": "code",
   "execution_count": null,
   "id": "37124f32",
   "metadata": {},
   "outputs": [],
   "source": [
    "VendorNL.ReadExcel()"
   ]
  },
  {
   "cell_type": "markdown",
   "id": "ac3269a9",
   "metadata": {},
   "source": [
    "If we create another vendor that works on a different project or translates from another source language and call the same function without writing it to an excel file, we'll get an error message saying that a file for the project in the given source language does not exist."
   ]
  },
  {
   "cell_type": "code",
   "execution_count": null,
   "id": "10dc02d2",
   "metadata": {},
   "outputs": [],
   "source": [
    "VendorBG = vd.VendorData(\"Tutorial\", \"German\", \"Bulgarian\", \"Bulgarian Jacob\")\n",
    "VendorBG.ReadExcel()"
   ]
  },
  {
   "cell_type": "markdown",
   "id": "e0592b3d",
   "metadata": {},
   "source": [
    "We can also modify the excel file by running the `ModExcel` function. Again, it does not matter for which vendor you call this function.\n",
    "This function takes 3 arguments:\n",
    "1. The `Key` which represents the arguments you can change the values for. You can check the modifiable keys by running vd.VendorData.Keys\n",
    "2. The `Index`: if you have run the ReadExcel() function, you have noticed that before every value for a key in the dictionrary there's a number. By picking a number, you can change the value for that index.\n",
    "3. The `NewValue`, the new value for the index in a key.\n",
    "\n",
    "First we'll run `vd.VendorData.Keys` to see the modifiable keys:"
   ]
  },
  {
   "cell_type": "code",
   "execution_count": null,
   "id": "17292d31",
   "metadata": {},
   "outputs": [],
   "source": [
    "vd.VendorData.Keys"
   ]
  },
  {
   "cell_type": "markdown",
   "id": "52d39227",
   "metadata": {},
   "source": [
    "Now we'll again read the excel file for the project \"Tutorial\" with source language \"English\". Again, it does not matter which vendor you do this for:"
   ]
  },
  {
   "cell_type": "code",
   "execution_count": null,
   "id": "abf2dc40",
   "metadata": {},
   "outputs": [],
   "source": [
    "VendorNL.ReadExcel()"
   ]
  },
  {
   "cell_type": "markdown",
   "id": "1ecca948",
   "metadata": {},
   "source": [
    "Now we can choose for which index in which key we want to change the value for. We can for example change the CAT Tool the Spanish vendor will use like this:"
   ]
  },
  {
   "cell_type": "code",
   "execution_count": null,
   "id": "52e91ff2",
   "metadata": {},
   "outputs": [],
   "source": [
    "VendorES.ModExcel(\"CAT Tool\", 2, \"MemoQ\")"
   ]
  },
  {
   "cell_type": "markdown",
   "id": "cfec5fae",
   "metadata": {},
   "source": [
    "If you check this by running `.CatTool`, the old value will still be there."
   ]
  },
  {
   "cell_type": "code",
   "execution_count": null,
   "id": "f4e539d4",
   "metadata": {},
   "outputs": [],
   "source": [
    "VendorES.CatTool"
   ]
  },
  {
   "cell_type": "markdown",
   "id": "85cc6b7f",
   "metadata": {},
   "source": [
    "However, if we read the excel file again, we'll notice it has changed:"
   ]
  },
  {
   "cell_type": "code",
   "execution_count": null,
   "id": "072bbb59",
   "metadata": {},
   "outputs": [],
   "source": [
    "VendorES.ReadExcel()"
   ]
  },
  {
   "cell_type": "markdown",
   "id": "c6e675e6",
   "metadata": {},
   "source": [
    "## Validation\n",
    "\n",
    "This script also uses some functions to validate the user input anytime when user interaction is necessary.\n",
    "That is:\n",
    "- upon instantiating an instance of VendorData\n",
    "- upon changing a value using one of the functions illustrated above\n",
    "- upon modifying the excel file\n",
    "\n",
    "The examples below illustrate what happens when wrong user input is provided. We'll start with the simple TypeErrors:"
   ]
  },
  {
   "cell_type": "code",
   "execution_count": null,
   "id": "854ef143",
   "metadata": {},
   "outputs": [],
   "source": [
    "VendorDE = vd.VendorData(0.1, \"English\", \"German\", \"Thomas Zwiebel\")"
   ]
  },
  {
   "cell_type": "code",
   "execution_count": null,
   "id": "cd524417",
   "metadata": {},
   "outputs": [],
   "source": [
    "VendorDE = vd.VendorData(\"Tutorial\", 1, \"German\", \"Thomas Zwiebel\")"
   ]
  },
  {
   "cell_type": "code",
   "execution_count": null,
   "id": "d6497db2",
   "metadata": {},
   "outputs": [],
   "source": [
    "VendorDE = vd.VendorData(\"Tutorial\", \"English\", True, \"Thomas Zwiebel\")"
   ]
  },
  {
   "cell_type": "code",
   "execution_count": null,
   "id": "8b01bfed",
   "metadata": {},
   "outputs": [],
   "source": [
    "VendorDE = vd.VendorData(\"Tutorial\", \"English\", \"German\", None)"
   ]
  },
  {
   "cell_type": "code",
   "execution_count": null,
   "id": "20b5cc03",
   "metadata": {},
   "outputs": [],
   "source": [
    "VendorDE = vd.VendorData(\"Tutorial\", \"English\", \"German\", \"Thomas Zwiebel\", 3)"
   ]
  },
  {
   "cell_type": "code",
   "execution_count": null,
   "id": "7c32d39f",
   "metadata": {},
   "outputs": [],
   "source": [
    "VendorDE = vd.VendorData(\"Tutorial\", \"English\", \"German\", \"Thomas Zwiebel\", WordRate = \"0.15\")"
   ]
  },
  {
   "cell_type": "code",
   "execution_count": null,
   "id": "32715f64",
   "metadata": {},
   "outputs": [],
   "source": [
    "VendorDE = vd.VendorData(\"Tutorial\", \"English\", \"German\", \"Thomas Zwiebel\", Preferred = \"Test\")"
   ]
  },
  {
   "cell_type": "code",
   "execution_count": null,
   "id": "8b74ce10",
   "metadata": {},
   "outputs": [],
   "source": [
    "VendorDE = vd.VendorData(\"Tutorial\", \"English\", \"German\", \"Thomas Zwiebel\", CatTool = True)"
   ]
  }
 ],
 "metadata": {
  "kernelspec": {
   "display_name": "Python 3 (ipykernel)",
   "language": "python",
   "name": "python3"
  },
  "language_info": {
   "codemirror_mode": {
    "name": "ipython",
    "version": 3
   },
   "file_extension": ".py",
   "mimetype": "text/x-python",
   "name": "python",
   "nbconvert_exporter": "python",
   "pygments_lexer": "ipython3",
   "version": "3.9.16"
  }
 },
 "nbformat": 4,
 "nbformat_minor": 5
}
